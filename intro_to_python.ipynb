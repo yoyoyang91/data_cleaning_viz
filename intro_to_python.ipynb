{
 "cells": [
  {
   "cell_type": "markdown",
   "metadata": {},
   "source": [
    "## Introduction to Python \n",
    "\n",
    "Python is a programming language that can be used in innumerable ways.\n",
    "\n",
    "Some of the ways that Python applies to journalism.\n",
    "\n",
    "* Analyze and visualize data\n",
    "* Scrape websites and PDFs\n",
    "* Build and manage databases \n",
    "\n",
    "Some of the advanatages of Python over using Google Sheets include versatility (it's a full-blown programming language) reproducibility and sharability. Once you create a notebook, it's easy to go back to track each step of your work.\n",
    "\n",
    "### Start with variables\n",
    "\n",
    "We will start with learning about variables. A variable is like a container. You can assign a value. \n",
    "\n",
    "<img src=\"https://multimedia.report/images/classes/coding/assignment.gif\" alt=\"animation showing how variables work\" style=\"margin-left:0\">\n",
    "\n",
    "*Whatever is on the right side, will be stuffed into the left side.*\n",
    "\n",
    "Let's try it. Let's stuff the number 7 into x. Put your cursor in the box below, hold the shift key down, and press return."
   ]
  },
  {
   "cell_type": "code",
   "execution_count": 1,
   "metadata": {},
   "outputs": [],
   "source": [
    "x = 7"
   ]
  },
  {
   "cell_type": "markdown",
   "metadata": {},
   "source": [
    "Next, let's see the output. We'll type just \"x\" by itself and Python will output its value. In each of these boxes, put your cursor in the box, hold down the shift key on your keyboard, and press return."
   ]
  },
  {
   "cell_type": "code",
   "execution_count": 2,
   "metadata": {},
   "outputs": [
    {
     "data": {
      "text/plain": [
       "7"
      ]
     },
     "execution_count": 2,
     "metadata": {},
     "output_type": "execute_result"
    }
   ],
   "source": [
    "x"
   ]
  },
  {
   "cell_type": "markdown",
   "metadata": {},
   "source": [
    "One shortcut, we can combine both statements into one, so that when we set a variable, we can immediately see its output. Let's try:"
   ]
  },
  {
   "cell_type": "code",
   "execution_count": 3,
   "metadata": {},
   "outputs": [
    {
     "data": {
      "text/plain": [
       "5"
      ]
     },
     "execution_count": 3,
     "metadata": {},
     "output_type": "execute_result"
    }
   ],
   "source": [
    "k = 5\n",
    "k"
   ]
  },
  {
   "cell_type": "markdown",
   "metadata": {},
   "source": [
    "This is common in the tasks we'll do later. We'll list a variable by itself immediately after we set it so that it will show us the output.\n",
    "\n",
    "Here is something else we can do, we can replace the value in variables. When we do, it takes its most recent assignment."
   ]
  },
  {
   "cell_type": "code",
   "execution_count": 4,
   "metadata": {},
   "outputs": [
    {
     "data": {
      "text/plain": [
       "5"
      ]
     },
     "execution_count": 4,
     "metadata": {},
     "output_type": "execute_result"
    }
   ],
   "source": [
    "j = 3\n",
    "j = 5\n",
    "j"
   ]
  },
  {
   "cell_type": "markdown",
   "metadata": {},
   "source": [
    "Notice how j is equal to 5 and not three. We replaced its value by assigning a new value.\n",
    "\n",
    "By the way, how is that x doing?"
   ]
  },
  {
   "cell_type": "code",
   "execution_count": 5,
   "metadata": {},
   "outputs": [
    {
     "data": {
      "text/plain": [
       "10"
      ]
     },
     "execution_count": 5,
     "metadata": {},
     "output_type": "execute_result"
    }
   ],
   "source": [
    "x = 10\n",
    "x"
   ]
  },
  {
   "cell_type": "markdown",
   "metadata": {},
   "source": [
    "Yes, it's still 7. So variables will carry on from other cells. Once we run the cell (box) it's set. Go back up to the first cell we ran (where we set it to 7) and change the value to 10 and run it again. Then come back here and run the cell below."
   ]
  },
  {
   "cell_type": "code",
   "execution_count": 6,
   "metadata": {},
   "outputs": [
    {
     "data": {
      "text/plain": [
       "10"
      ]
     },
     "execution_count": 6,
     "metadata": {},
     "output_type": "execute_result"
    }
   ],
   "source": [
    "x"
   ]
  },
  {
   "cell_type": "markdown",
   "metadata": {},
   "source": [
    "So, the order of operations matters. The order in which we run each Python line of code makes a difference. Notice those numbers beside each cell? That describes the order we ran each cell so we can keep track of what was done. \n",
    "\n",
    "Next, let's see how we can assign variables to other variables."
   ]
  },
  {
   "cell_type": "code",
   "execution_count": 7,
   "metadata": {},
   "outputs": [
    {
     "data": {
      "text/plain": [
       "3"
      ]
     },
     "execution_count": 7,
     "metadata": {},
     "output_type": "execute_result"
    }
   ],
   "source": [
    "x = 3\n",
    "y = x\n",
    "y"
   ]
  },
  {
   "cell_type": "markdown",
   "metadata": {},
   "source": [
    "Note how we assigned 3 to x, then we assigned the *value* of x to y. Why didn't the output simply say \"y\"? Because that's a different datatype. That's a string. Let's try it one more time."
   ]
  },
  {
   "cell_type": "code",
   "execution_count": 8,
   "metadata": {},
   "outputs": [
    {
     "data": {
      "text/plain": [
       "'x'"
      ]
     },
     "execution_count": 8,
     "metadata": {},
     "output_type": "execute_result"
    }
   ],
   "source": [
    "x = 3\n",
    "y = \"x\"\n",
    "y"
   ]
  },
  {
   "cell_type": "markdown",
   "metadata": {},
   "source": [
    "Ah hah! We assigned text string \"x\" to y, so y now stores the value of a piece of text. If we left the quotes off, it would assign the *value* of x rather than the string \"x\". Important distinction.\n",
    "\n",
    "Here are some other things we can do:"
   ]
  },
  {
   "cell_type": "code",
   "execution_count": 9,
   "metadata": {},
   "outputs": [
    {
     "data": {
      "text/plain": [
       "4"
      ]
     },
     "execution_count": 9,
     "metadata": {},
     "output_type": "execute_result"
    }
   ],
   "source": [
    "x = 2 + 2\n",
    "x"
   ]
  },
  {
   "cell_type": "code",
   "execution_count": 10,
   "metadata": {},
   "outputs": [
    {
     "data": {
      "text/plain": [
       "6"
      ]
     },
     "execution_count": 10,
     "metadata": {},
     "output_type": "execute_result"
    }
   ],
   "source": [
    "x = 5\n",
    "y = 1\n",
    "j = x + y\n",
    "j"
   ]
  },
  {
   "cell_type": "markdown",
   "metadata": {},
   "source": [
    "Let's try something different. What would happen if we added two strings together? Any guesses? Guess what might happen before we run the code below. The run it to see if you were right."
   ]
  },
  {
   "cell_type": "code",
   "execution_count": 11,
   "metadata": {},
   "outputs": [
    {
     "data": {
      "text/plain": [
       "'JeremyRue'"
      ]
     },
     "execution_count": 11,
     "metadata": {},
     "output_type": "execute_result"
    }
   ],
   "source": [
    "firstname = \"Jeremy\"\n",
    "lastname  = \"Rue\"\n",
    "fullname  = firstname + lastname\n",
    "fullname"
   ]
  },
  {
   "cell_type": "markdown",
   "metadata": {},
   "source": [
    "### Lists\n",
    "\n",
    "There is a special type of variable in Python called lists. It's pretty cool. It gives us the ability to store multiple values in a single variable. Let's take a look:"
   ]
  },
  {
   "cell_type": "code",
   "execution_count": 12,
   "metadata": {},
   "outputs": [
    {
     "data": {
      "text/plain": [
       "['January',\n",
       " 'February',\n",
       " 'March',\n",
       " 'April',\n",
       " 'May',\n",
       " 'June',\n",
       " 'July',\n",
       " 'August',\n",
       " 'September',\n",
       " 'October',\n",
       " 'November']"
      ]
     },
     "execution_count": 12,
     "metadata": {},
     "output_type": "execute_result"
    }
   ],
   "source": [
    "months = [\"January\", \"February\", \"March\", \"April\", \"May\", \"June\", \"July\", \"August\", \"September\", \"October\", \"November\"]\n",
    "months"
   ]
  },
  {
   "cell_type": "markdown",
   "metadata": {},
   "source": [
    "Notice the output simply lists the values in the list. How do we recall a value? We use something called the **zero index**, which starts with zero as the first value, and so on?\n",
    "\n",
    "Take a guess, what will the following output?"
   ]
  },
  {
   "cell_type": "code",
   "execution_count": 13,
   "metadata": {},
   "outputs": [
    {
     "data": {
      "text/plain": [
       "'January'"
      ]
     },
     "execution_count": 13,
     "metadata": {},
     "output_type": "execute_result"
    }
   ],
   "source": [
    "months[0]"
   ]
  },
  {
   "cell_type": "markdown",
   "metadata": {},
   "source": [
    "What about this one?"
   ]
  },
  {
   "cell_type": "code",
   "execution_count": 14,
   "metadata": {},
   "outputs": [
    {
     "data": {
      "text/plain": [
       "'February'"
      ]
     },
     "execution_count": 14,
     "metadata": {},
     "output_type": "execute_result"
    }
   ],
   "source": [
    "months[1]"
   ]
  },
  {
   "cell_type": "markdown",
   "metadata": {},
   "source": [
    "OK, one more time... before running this code, take a guess, what will this output?"
   ]
  },
  {
   "cell_type": "code",
   "execution_count": 15,
   "metadata": {},
   "outputs": [
    {
     "data": {
      "text/plain": [
       "'June'"
      ]
     },
     "execution_count": 15,
     "metadata": {},
     "output_type": "execute_result"
    }
   ],
   "source": [
    "months[5]"
   ]
  },
  {
   "cell_type": "markdown",
   "metadata": {},
   "source": [
    "There are also special commands called \"methods\" we can run on lists. \n",
    "\n",
    "We can ask this list how long it is:"
   ]
  },
  {
   "cell_type": "code",
   "execution_count": 16,
   "metadata": {},
   "outputs": [
    {
     "data": {
      "text/plain": [
       "11"
      ]
     },
     "execution_count": 16,
     "metadata": {},
     "output_type": "execute_result"
    }
   ],
   "source": [
    "len(months)"
   ]
  },
  {
   "cell_type": "markdown",
   "metadata": {},
   "source": [
    "We can also append (add to) the list, even though we already assigned the values."
   ]
  },
  {
   "cell_type": "code",
   "execution_count": 17,
   "metadata": {},
   "outputs": [
    {
     "data": {
      "text/plain": [
       "12"
      ]
     },
     "execution_count": 17,
     "metadata": {},
     "output_type": "execute_result"
    }
   ],
   "source": [
    "months.append('December')\n",
    "len(months)"
   ]
  },
  {
   "cell_type": "markdown",
   "metadata": {},
   "source": [
    "We can also extract a portion, or slice, of this list using special notation."
   ]
  },
  {
   "cell_type": "code",
   "execution_count": 18,
   "metadata": {},
   "outputs": [
    {
     "data": {
      "text/plain": [
       "['January', 'February', 'March']"
      ]
     },
     "execution_count": 18,
     "metadata": {},
     "output_type": "execute_result"
    }
   ],
   "source": [
    "months[0:3]"
   ]
  },
  {
   "cell_type": "markdown",
   "metadata": {},
   "source": [
    "Note that the zero referred to the first item, but the second number referrs to the item before the index. Here is a nifty guide to refer to if you ever forget:\n",
    "\n",
    "```python\n",
    "a[start:stop] # items start until stop - 1\n",
    "a[start:]     # items start then go through the rest of the list\n",
    "a[:stop]      # items from the beginning until stop - 1\n",
    "a[:]          # a copy of the whole list\n",
    "\n",
    "a[start:stop:step] # start, but do not past stop, by step\n",
    "```\n",
    "\n",
    "Try a few of these from above yourself in the next cell:"
   ]
  },
  {
   "cell_type": "code",
   "execution_count": 19,
   "metadata": {},
   "outputs": [
    {
     "data": {
      "text/plain": [
       "['January', 'March', 'May']"
      ]
     },
     "execution_count": 19,
     "metadata": {},
     "output_type": "execute_result"
    }
   ],
   "source": [
    "months[0:5:2]"
   ]
  },
  {
   "cell_type": "markdown",
   "metadata": {},
   "source": [
    "### Dictionaries\n",
    "\n",
    "The next datatype is dictionaries. Dictionaries are similar to JSON, which we'll go over later in class. \n",
    "\n",
    "The important thing to know about dictionaries is they store values by properties called \"keys\" (similar to CSS)."
   ]
  },
  {
   "cell_type": "code",
   "execution_count": 20,
   "metadata": {},
   "outputs": [
    {
     "data": {
      "text/plain": [
       "{'city': 'Berkeley', 'state': 'California', 'county': 'Alameda', 'zip': 94720}"
      ]
     },
     "execution_count": 20,
     "metadata": {},
     "output_type": "execute_result"
    }
   ],
   "source": [
    "# Curly braces! Not brackets \n",
    "\n",
    "my_dict = { \n",
    "    \"city\": \"Berkeley\", \n",
    "    \"state\": \"California\", \n",
    "    \"county\": \"Alameda\", \n",
    "    \"zip\": 94720\n",
    "}\n",
    "\n",
    "my_dict"
   ]
  },
  {
   "cell_type": "markdown",
   "metadata": {},
   "source": [
    "We can recall any value by its keys using notation similar to lists, but putting the property string instead of an index."
   ]
  },
  {
   "cell_type": "code",
   "execution_count": 21,
   "metadata": {},
   "outputs": [
    {
     "data": {
      "text/plain": [
       "'Berkeley'"
      ]
     },
     "execution_count": 21,
     "metadata": {},
     "output_type": "execute_result"
    }
   ],
   "source": [
    "my_dict[\"city\"]"
   ]
  },
  {
   "cell_type": "code",
   "execution_count": 22,
   "metadata": {},
   "outputs": [
    {
     "data": {
      "text/plain": [
       "94720"
      ]
     },
     "execution_count": 22,
     "metadata": {},
     "output_type": "execute_result"
    }
   ],
   "source": [
    "my_dict[\"zip\"]"
   ]
  },
  {
   "cell_type": "code",
   "execution_count": 23,
   "metadata": {},
   "outputs": [
    {
     "data": {
      "text/plain": [
       "dict_keys(['city', 'state', 'county', 'zip'])"
      ]
     },
     "execution_count": 23,
     "metadata": {},
     "output_type": "execute_result"
    }
   ],
   "source": [
    "my_dict.keys()"
   ]
  },
  {
   "cell_type": "code",
   "execution_count": 24,
   "metadata": {},
   "outputs": [
    {
     "data": {
      "text/plain": [
       "dict_values(['Berkeley', 'California', 'Alameda', 94720])"
      ]
     },
     "execution_count": 24,
     "metadata": {},
     "output_type": "execute_result"
    }
   ],
   "source": [
    "my_dict.values()"
   ]
  },
  {
   "cell_type": "markdown",
   "metadata": {},
   "source": [
    "## Importing Libraries\n",
    "\n",
    "Okay, now that we have all of that out of the way, we will do some data stuff. The first thing we need to do is import some libraries. We will use the popular Pandas library, and also import Seaborn for doing some basic data visaulizations. These libraries were installed prior to this lesson, so you don't have to install them. But if you were doing this on your own, you'd need to install them before running the code below."
   ]
  },
  {
   "cell_type": "code",
   "execution_count": 25,
   "metadata": {},
   "outputs": [],
   "source": [
    "import numpy as np\n",
    "import pandas as pd\n",
    "import seaborn as sns\n",
    "import matplotlib.pyplot as plt"
   ]
  },
  {
   "cell_type": "markdown",
   "metadata": {},
   "source": [
    "Now that we've imported our libraries, let's bring in our .csv file using pandas. Notice above, our Pandas library was stored in a variable called \"pd\" (short for Pandas). Technically, we could have specified anything for our Pandas library, but pd is the standard convention, so let's stick with that."
   ]
  },
  {
   "cell_type": "code",
   "execution_count": 26,
   "metadata": {},
   "outputs": [],
   "source": [
    "pulitzers = pd.read_csv(\"pulitzer-circulation-data.csv\", encoding='utf-8')"
   ]
  },
  {
   "cell_type": "markdown",
   "metadata": {},
   "source": [
    "Now, let's take a look and see what it looks like. We can run the command `head()` on the variable to see the first five rows of data."
   ]
  },
  {
   "cell_type": "code",
   "execution_count": 27,
   "metadata": {},
   "outputs": [
    {
     "data": {
      "text/html": [
       "<div>\n",
       "<style scoped>\n",
       "    .dataframe tbody tr th:only-of-type {\n",
       "        vertical-align: middle;\n",
       "    }\n",
       "\n",
       "    .dataframe tbody tr th {\n",
       "        vertical-align: top;\n",
       "    }\n",
       "\n",
       "    .dataframe thead th {\n",
       "        text-align: right;\n",
       "    }\n",
       "</style>\n",
       "<table border=\"1\" class=\"dataframe\">\n",
       "  <thead>\n",
       "    <tr style=\"text-align: right;\">\n",
       "      <th></th>\n",
       "      <th>Newspaper</th>\n",
       "      <th>Daily Circulation, 2004</th>\n",
       "      <th>Daily Circulation, 2013</th>\n",
       "      <th>Change in Daily Circulation, 2004-2013 in Percent</th>\n",
       "      <th>Pulitzer Prize Winners and Finalists, 1990-2003</th>\n",
       "      <th>Pulitzer Prize Winners and Finalists, 2004-2014</th>\n",
       "      <th>Pulitzer Prize Winners and Finalists, 1990-2014</th>\n",
       "    </tr>\n",
       "  </thead>\n",
       "  <tbody>\n",
       "    <tr>\n",
       "      <th>0</th>\n",
       "      <td>USA Today</td>\n",
       "      <td>2192098</td>\n",
       "      <td>1674306</td>\n",
       "      <td>-24</td>\n",
       "      <td>1</td>\n",
       "      <td>1</td>\n",
       "      <td>2</td>\n",
       "    </tr>\n",
       "    <tr>\n",
       "      <th>1</th>\n",
       "      <td>Wall Street Journal</td>\n",
       "      <td>2101017</td>\n",
       "      <td>2378827</td>\n",
       "      <td>13</td>\n",
       "      <td>30</td>\n",
       "      <td>20</td>\n",
       "      <td>50</td>\n",
       "    </tr>\n",
       "    <tr>\n",
       "      <th>2</th>\n",
       "      <td>New York Times</td>\n",
       "      <td>1119027</td>\n",
       "      <td>1865318</td>\n",
       "      <td>67</td>\n",
       "      <td>55</td>\n",
       "      <td>62</td>\n",
       "      <td>117</td>\n",
       "    </tr>\n",
       "    <tr>\n",
       "      <th>3</th>\n",
       "      <td>Los Angeles Times</td>\n",
       "      <td>983727</td>\n",
       "      <td>653868</td>\n",
       "      <td>-34</td>\n",
       "      <td>44</td>\n",
       "      <td>41</td>\n",
       "      <td>85</td>\n",
       "    </tr>\n",
       "    <tr>\n",
       "      <th>4</th>\n",
       "      <td>Washington Post</td>\n",
       "      <td>760034</td>\n",
       "      <td>474767</td>\n",
       "      <td>-38</td>\n",
       "      <td>52</td>\n",
       "      <td>48</td>\n",
       "      <td>100</td>\n",
       "    </tr>\n",
       "  </tbody>\n",
       "</table>\n",
       "</div>"
      ],
      "text/plain": [
       "             Newspaper  Daily Circulation, 2004  Daily Circulation, 2013  \\\n",
       "0            USA Today                  2192098                  1674306   \n",
       "1  Wall Street Journal                  2101017                  2378827   \n",
       "2       New York Times                  1119027                  1865318   \n",
       "3    Los Angeles Times                   983727                   653868   \n",
       "4      Washington Post                   760034                   474767   \n",
       "\n",
       "   Change in Daily Circulation, 2004-2013 in Percent  \\\n",
       "0                                                -24   \n",
       "1                                                 13   \n",
       "2                                                 67   \n",
       "3                                                -34   \n",
       "4                                                -38   \n",
       "\n",
       "   Pulitzer Prize Winners and Finalists, 1990-2003  \\\n",
       "0                                                1   \n",
       "1                                               30   \n",
       "2                                               55   \n",
       "3                                               44   \n",
       "4                                               52   \n",
       "\n",
       "   Pulitzer Prize Winners and Finalists, 2004-2014  \\\n",
       "0                                                1   \n",
       "1                                               20   \n",
       "2                                               62   \n",
       "3                                               41   \n",
       "4                                               48   \n",
       "\n",
       "   Pulitzer Prize Winners and Finalists, 1990-2014  \n",
       "0                                                2  \n",
       "1                                               50  \n",
       "2                                              117  \n",
       "3                                               85  \n",
       "4                                              100  "
      ]
     },
     "execution_count": 27,
     "metadata": {},
     "output_type": "execute_result"
    }
   ],
   "source": [
    "pulitzers.head()"
   ]
  },
  {
   "cell_type": "markdown",
   "metadata": {},
   "source": [
    "We can also put a number in the parenthesis to specify a specific number of rows to show."
   ]
  },
  {
   "cell_type": "code",
   "execution_count": 28,
   "metadata": {},
   "outputs": [
    {
     "data": {
      "text/html": [
       "<div>\n",
       "<style scoped>\n",
       "    .dataframe tbody tr th:only-of-type {\n",
       "        vertical-align: middle;\n",
       "    }\n",
       "\n",
       "    .dataframe tbody tr th {\n",
       "        vertical-align: top;\n",
       "    }\n",
       "\n",
       "    .dataframe thead th {\n",
       "        text-align: right;\n",
       "    }\n",
       "</style>\n",
       "<table border=\"1\" class=\"dataframe\">\n",
       "  <thead>\n",
       "    <tr style=\"text-align: right;\">\n",
       "      <th></th>\n",
       "      <th>Newspaper</th>\n",
       "      <th>Daily Circulation, 2004</th>\n",
       "      <th>Daily Circulation, 2013</th>\n",
       "      <th>Change in Daily Circulation, 2004-2013 in Percent</th>\n",
       "      <th>Pulitzer Prize Winners and Finalists, 1990-2003</th>\n",
       "      <th>Pulitzer Prize Winners and Finalists, 2004-2014</th>\n",
       "      <th>Pulitzer Prize Winners and Finalists, 1990-2014</th>\n",
       "    </tr>\n",
       "  </thead>\n",
       "  <tbody>\n",
       "    <tr>\n",
       "      <th>0</th>\n",
       "      <td>USA Today</td>\n",
       "      <td>2192098</td>\n",
       "      <td>1674306</td>\n",
       "      <td>-24</td>\n",
       "      <td>1</td>\n",
       "      <td>1</td>\n",
       "      <td>2</td>\n",
       "    </tr>\n",
       "    <tr>\n",
       "      <th>1</th>\n",
       "      <td>Wall Street Journal</td>\n",
       "      <td>2101017</td>\n",
       "      <td>2378827</td>\n",
       "      <td>13</td>\n",
       "      <td>30</td>\n",
       "      <td>20</td>\n",
       "      <td>50</td>\n",
       "    </tr>\n",
       "    <tr>\n",
       "      <th>2</th>\n",
       "      <td>New York Times</td>\n",
       "      <td>1119027</td>\n",
       "      <td>1865318</td>\n",
       "      <td>67</td>\n",
       "      <td>55</td>\n",
       "      <td>62</td>\n",
       "      <td>117</td>\n",
       "    </tr>\n",
       "    <tr>\n",
       "      <th>3</th>\n",
       "      <td>Los Angeles Times</td>\n",
       "      <td>983727</td>\n",
       "      <td>653868</td>\n",
       "      <td>-34</td>\n",
       "      <td>44</td>\n",
       "      <td>41</td>\n",
       "      <td>85</td>\n",
       "    </tr>\n",
       "    <tr>\n",
       "      <th>4</th>\n",
       "      <td>Washington Post</td>\n",
       "      <td>760034</td>\n",
       "      <td>474767</td>\n",
       "      <td>-38</td>\n",
       "      <td>52</td>\n",
       "      <td>48</td>\n",
       "      <td>100</td>\n",
       "    </tr>\n",
       "    <tr>\n",
       "      <th>5</th>\n",
       "      <td>New York Daily News</td>\n",
       "      <td>712671</td>\n",
       "      <td>516165</td>\n",
       "      <td>-28</td>\n",
       "      <td>4</td>\n",
       "      <td>2</td>\n",
       "      <td>6</td>\n",
       "    </tr>\n",
       "    <tr>\n",
       "      <th>6</th>\n",
       "      <td>New York Post</td>\n",
       "      <td>642844</td>\n",
       "      <td>500521</td>\n",
       "      <td>-22</td>\n",
       "      <td>0</td>\n",
       "      <td>0</td>\n",
       "      <td>0</td>\n",
       "    </tr>\n",
       "    <tr>\n",
       "      <th>7</th>\n",
       "      <td>Chicago Tribune</td>\n",
       "      <td>603315</td>\n",
       "      <td>414930</td>\n",
       "      <td>-31</td>\n",
       "      <td>23</td>\n",
       "      <td>15</td>\n",
       "      <td>38</td>\n",
       "    </tr>\n",
       "    <tr>\n",
       "      <th>8</th>\n",
       "      <td>San Jose Mercury News</td>\n",
       "      <td>558874</td>\n",
       "      <td>583998</td>\n",
       "      <td>4</td>\n",
       "      <td>4</td>\n",
       "      <td>2</td>\n",
       "      <td>6</td>\n",
       "    </tr>\n",
       "    <tr>\n",
       "      <th>9</th>\n",
       "      <td>Newsday</td>\n",
       "      <td>553117</td>\n",
       "      <td>377744</td>\n",
       "      <td>-32</td>\n",
       "      <td>12</td>\n",
       "      <td>6</td>\n",
       "      <td>18</td>\n",
       "    </tr>\n",
       "  </tbody>\n",
       "</table>\n",
       "</div>"
      ],
      "text/plain": [
       "               Newspaper  Daily Circulation, 2004  Daily Circulation, 2013  \\\n",
       "0              USA Today                  2192098                  1674306   \n",
       "1    Wall Street Journal                  2101017                  2378827   \n",
       "2         New York Times                  1119027                  1865318   \n",
       "3      Los Angeles Times                   983727                   653868   \n",
       "4        Washington Post                   760034                   474767   \n",
       "5    New York Daily News                   712671                   516165   \n",
       "6          New York Post                   642844                   500521   \n",
       "7        Chicago Tribune                   603315                   414930   \n",
       "8  San Jose Mercury News                   558874                   583998   \n",
       "9                Newsday                   553117                   377744   \n",
       "\n",
       "   Change in Daily Circulation, 2004-2013 in Percent  \\\n",
       "0                                                -24   \n",
       "1                                                 13   \n",
       "2                                                 67   \n",
       "3                                                -34   \n",
       "4                                                -38   \n",
       "5                                                -28   \n",
       "6                                                -22   \n",
       "7                                                -31   \n",
       "8                                                  4   \n",
       "9                                                -32   \n",
       "\n",
       "   Pulitzer Prize Winners and Finalists, 1990-2003  \\\n",
       "0                                                1   \n",
       "1                                               30   \n",
       "2                                               55   \n",
       "3                                               44   \n",
       "4                                               52   \n",
       "5                                                4   \n",
       "6                                                0   \n",
       "7                                               23   \n",
       "8                                                4   \n",
       "9                                               12   \n",
       "\n",
       "   Pulitzer Prize Winners and Finalists, 2004-2014  \\\n",
       "0                                                1   \n",
       "1                                               20   \n",
       "2                                               62   \n",
       "3                                               41   \n",
       "4                                               48   \n",
       "5                                                2   \n",
       "6                                                0   \n",
       "7                                               15   \n",
       "8                                                2   \n",
       "9                                                6   \n",
       "\n",
       "   Pulitzer Prize Winners and Finalists, 1990-2014  \n",
       "0                                                2  \n",
       "1                                               50  \n",
       "2                                              117  \n",
       "3                                               85  \n",
       "4                                              100  \n",
       "5                                                6  \n",
       "6                                                0  \n",
       "7                                               38  \n",
       "8                                                6  \n",
       "9                                               18  "
      ]
     },
     "execution_count": 28,
     "metadata": {},
     "output_type": "execute_result"
    }
   ],
   "source": [
    "pulitzers.head(10)"
   ]
  },
  {
   "cell_type": "markdown",
   "metadata": {},
   "source": [
    "### Interview Functions\n",
    "\n",
    "Let's interview our data. Here are some functions we can run. The \"df\" is a placeholder for your data. It's stands for \"data frame\" which is what we call this datatype when using Pandas.\n",
    "\n",
    "`df.head()` - get the first 5 rows of your data (or specify number)\n",
    "\n",
    "`df.tail()` - get the last 5 rows of your data (or specify number)\n",
    "\n",
    "`df.sample(5)` - get a random sampling of 5 rows of your data\n",
    "\n",
    "`df.columns` - get a list of all the columns\n",
    "\n",
    "`df.info()` - get number of rows with data and data type for each column \n",
    "\n",
    "`df.shape` - get the number of rows and columns\n",
    "\n",
    "`df.describe()` - get a variety of statistical calculations for all values in each column\n",
    "\n",
    "Let's take these functions for a spin:"
   ]
  },
  {
   "cell_type": "code",
   "execution_count": 29,
   "metadata": {},
   "outputs": [
    {
     "data": {
      "text/plain": [
       "Index(['Newspaper', 'Daily Circulation, 2004', 'Daily Circulation, 2013',\n",
       "       'Change in Daily Circulation, 2004-2013 in Percent',\n",
       "       'Pulitzer Prize Winners and Finalists, 1990-2003',\n",
       "       'Pulitzer Prize Winners and Finalists, 2004-2014',\n",
       "       'Pulitzer Prize Winners and Finalists, 1990-2014'],\n",
       "      dtype='object')"
      ]
     },
     "execution_count": 29,
     "metadata": {},
     "output_type": "execute_result"
    }
   ],
   "source": [
    "#also try pulitzers.columns[2:5]\n",
    "pulitzers.columns"
   ]
  },
  {
   "cell_type": "code",
   "execution_count": 30,
   "metadata": {},
   "outputs": [
    {
     "data": {
      "text/plain": [
       "(50, 7)"
      ]
     },
     "execution_count": 30,
     "metadata": {},
     "output_type": "execute_result"
    }
   ],
   "source": [
    "#describes the number of rows and columns\n",
    "pulitzers.shape"
   ]
  },
  {
   "cell_type": "code",
   "execution_count": 31,
   "metadata": {},
   "outputs": [
    {
     "data": {
      "text/html": [
       "<div>\n",
       "<style scoped>\n",
       "    .dataframe tbody tr th:only-of-type {\n",
       "        vertical-align: middle;\n",
       "    }\n",
       "\n",
       "    .dataframe tbody tr th {\n",
       "        vertical-align: top;\n",
       "    }\n",
       "\n",
       "    .dataframe thead th {\n",
       "        text-align: right;\n",
       "    }\n",
       "</style>\n",
       "<table border=\"1\" class=\"dataframe\">\n",
       "  <thead>\n",
       "    <tr style=\"text-align: right;\">\n",
       "      <th></th>\n",
       "      <th>Daily Circulation, 2004</th>\n",
       "      <th>Daily Circulation, 2013</th>\n",
       "      <th>Change in Daily Circulation, 2004-2013 in Percent</th>\n",
       "      <th>Pulitzer Prize Winners and Finalists, 1990-2003</th>\n",
       "      <th>Pulitzer Prize Winners and Finalists, 2004-2014</th>\n",
       "      <th>Pulitzer Prize Winners and Finalists, 1990-2014</th>\n",
       "    </tr>\n",
       "  </thead>\n",
       "  <tbody>\n",
       "    <tr>\n",
       "      <th>count</th>\n",
       "      <td>5.000000e+01</td>\n",
       "      <td>5.000000e+01</td>\n",
       "      <td>50.000000</td>\n",
       "      <td>50.000000</td>\n",
       "      <td>50.000000</td>\n",
       "      <td>50.000000</td>\n",
       "    </tr>\n",
       "    <tr>\n",
       "      <th>mean</th>\n",
       "      <td>4.624217e+05</td>\n",
       "      <td>3.624628e+05</td>\n",
       "      <td>-29.200000</td>\n",
       "      <td>8.340000</td>\n",
       "      <td>6.720000</td>\n",
       "      <td>15.060000</td>\n",
       "    </tr>\n",
       "    <tr>\n",
       "      <th>std</th>\n",
       "      <td>3.965849e+05</td>\n",
       "      <td>4.404812e+05</td>\n",
       "      <td>27.066811</td>\n",
       "      <td>12.886649</td>\n",
       "      <td>12.142084</td>\n",
       "      <td>24.640609</td>\n",
       "    </tr>\n",
       "    <tr>\n",
       "      <th>min</th>\n",
       "      <td>2.157350e+05</td>\n",
       "      <td>0.000000e+00</td>\n",
       "      <td>-100.000000</td>\n",
       "      <td>0.000000</td>\n",
       "      <td>0.000000</td>\n",
       "      <td>0.000000</td>\n",
       "    </tr>\n",
       "    <tr>\n",
       "      <th>25%</th>\n",
       "      <td>2.598472e+05</td>\n",
       "      <td>1.617345e+05</td>\n",
       "      <td>-40.750000</td>\n",
       "      <td>1.000000</td>\n",
       "      <td>1.000000</td>\n",
       "      <td>2.000000</td>\n",
       "    </tr>\n",
       "    <tr>\n",
       "      <th>50%</th>\n",
       "      <td>3.400875e+05</td>\n",
       "      <td>2.293365e+05</td>\n",
       "      <td>-32.500000</td>\n",
       "      <td>4.000000</td>\n",
       "      <td>3.000000</td>\n",
       "      <td>7.000000</td>\n",
       "    </tr>\n",
       "    <tr>\n",
       "      <th>75%</th>\n",
       "      <td>4.909875e+05</td>\n",
       "      <td>3.733708e+05</td>\n",
       "      <td>-20.000000</td>\n",
       "      <td>9.750000</td>\n",
       "      <td>6.750000</td>\n",
       "      <td>15.250000</td>\n",
       "    </tr>\n",
       "    <tr>\n",
       "      <th>max</th>\n",
       "      <td>2.192098e+06</td>\n",
       "      <td>2.378827e+06</td>\n",
       "      <td>67.000000</td>\n",
       "      <td>55.000000</td>\n",
       "      <td>62.000000</td>\n",
       "      <td>117.000000</td>\n",
       "    </tr>\n",
       "  </tbody>\n",
       "</table>\n",
       "</div>"
      ],
      "text/plain": [
       "       Daily Circulation, 2004  Daily Circulation, 2013  \\\n",
       "count             5.000000e+01             5.000000e+01   \n",
       "mean              4.624217e+05             3.624628e+05   \n",
       "std               3.965849e+05             4.404812e+05   \n",
       "min               2.157350e+05             0.000000e+00   \n",
       "25%               2.598472e+05             1.617345e+05   \n",
       "50%               3.400875e+05             2.293365e+05   \n",
       "75%               4.909875e+05             3.733708e+05   \n",
       "max               2.192098e+06             2.378827e+06   \n",
       "\n",
       "       Change in Daily Circulation, 2004-2013 in Percent  \\\n",
       "count                                          50.000000   \n",
       "mean                                          -29.200000   \n",
       "std                                            27.066811   \n",
       "min                                          -100.000000   \n",
       "25%                                           -40.750000   \n",
       "50%                                           -32.500000   \n",
       "75%                                           -20.000000   \n",
       "max                                            67.000000   \n",
       "\n",
       "       Pulitzer Prize Winners and Finalists, 1990-2003  \\\n",
       "count                                        50.000000   \n",
       "mean                                          8.340000   \n",
       "std                                          12.886649   \n",
       "min                                           0.000000   \n",
       "25%                                           1.000000   \n",
       "50%                                           4.000000   \n",
       "75%                                           9.750000   \n",
       "max                                          55.000000   \n",
       "\n",
       "       Pulitzer Prize Winners and Finalists, 2004-2014  \\\n",
       "count                                        50.000000   \n",
       "mean                                          6.720000   \n",
       "std                                          12.142084   \n",
       "min                                           0.000000   \n",
       "25%                                           1.000000   \n",
       "50%                                           3.000000   \n",
       "75%                                           6.750000   \n",
       "max                                          62.000000   \n",
       "\n",
       "       Pulitzer Prize Winners and Finalists, 1990-2014  \n",
       "count                                        50.000000  \n",
       "mean                                         15.060000  \n",
       "std                                          24.640609  \n",
       "min                                           0.000000  \n",
       "25%                                           2.000000  \n",
       "50%                                           7.000000  \n",
       "75%                                          15.250000  \n",
       "max                                         117.000000  "
      ]
     },
     "execution_count": 31,
     "metadata": {},
     "output_type": "execute_result"
    }
   ],
   "source": [
    "pulitzers.describe()"
   ]
  },
  {
   "cell_type": "markdown",
   "metadata": {},
   "source": [
    "Note that we can also use dot-notation to call any column we want."
   ]
  },
  {
   "cell_type": "code",
   "execution_count": 32,
   "metadata": {},
   "outputs": [
    {
     "data": {
      "text/plain": [
       "0                        USA Today\n",
       "1              Wall Street Journal\n",
       "2                   New York Times\n",
       "3                Los Angeles Times\n",
       "4                  Washington Post\n",
       "5              New York Daily News\n",
       "6                    New York Post\n",
       "7                  Chicago Tribune\n",
       "8            San Jose Mercury News\n",
       "9                          Newsday\n",
       "10               Houston Chronicle\n",
       "11             Dallas Morning News\n",
       "12         San Francisco Chronicle\n",
       "13                Arizona Republic\n",
       "14               Chicago Sun-Times\n",
       "15                    Boston Globe\n",
       "16    Atlanta Journal Constitution\n",
       "17              Newark Star Ledger\n",
       "18              Detroit Free Press\n",
       "19        Minneapolis Star Tribune\n",
       "20           Philadelphia Inquirer\n",
       "21          Cleveland Plain Dealer\n",
       "22         San Diego Union-Tribune\n",
       "23                 Tampa Bay Times\n",
       "24                     Denver Post\n",
       "25             Rocky Mountain News\n",
       "26                       Oregonian\n",
       "27                    Miami Herald\n",
       "28          Orange County Register\n",
       "29                  Sacramento Bee\n",
       "30         St. Louis Post-Dispatch\n",
       "31                   Baltimore Sun\n",
       "32                Kansas City Star\n",
       "33                    Detroit News\n",
       "34                Orlando Sentinel\n",
       "35      South Florida Sun-Sentinel\n",
       "36      New Orleans Times-Picayune\n",
       "37               Columbus Dispatch\n",
       "38               Indianapolis Star\n",
       "39        San Antonio Express-News\n",
       "40         Pittsburgh Post-Gazette\n",
       "41      Milwaukee Journal Sentinel\n",
       "42                   Tampa Tribune\n",
       "43         Fort Woth Star-Telegram\n",
       "44                   Boston Herald\n",
       "45                   Seattle Times\n",
       "46              Charlotte Observer\n",
       "47                 Daily Oklahoman\n",
       "48      Louisville Courier-Journal\n",
       "49      Investor's Buisiness Daily\n",
       "Name: Newspaper, dtype: object"
      ]
     },
     "execution_count": 32,
     "metadata": {},
     "output_type": "execute_result"
    }
   ],
   "source": [
    "pulitzers.Newspaper"
   ]
  },
  {
   "cell_type": "code",
   "execution_count": 33,
   "metadata": {},
   "outputs": [
    {
     "data": {
      "text/plain": [
       "0     1674306\n",
       "1     2378827\n",
       "2     1865318\n",
       "3      653868\n",
       "4      474767\n",
       "5      516165\n",
       "6      500521\n",
       "7      414930\n",
       "8      583998\n",
       "9      377744\n",
       "10     360251\n",
       "11     409265\n",
       "12     218987\n",
       "13     293640\n",
       "14     470548\n",
       "15     245572\n",
       "16     231094\n",
       "17     340778\n",
       "18     209652\n",
       "19     301345\n",
       "20     306831\n",
       "21     311605\n",
       "22     250678\n",
       "23     340260\n",
       "24     416676\n",
       "25          0\n",
       "26     228909\n",
       "27     147130\n",
       "28     356165\n",
       "29     200802\n",
       "30     167199\n",
       "31     177054\n",
       "32     189283\n",
       "33     115643\n",
       "34     161070\n",
       "35     163728\n",
       "36          0\n",
       "37     137148\n",
       "38     156850\n",
       "39     139005\n",
       "40     180433\n",
       "41     198469\n",
       "42     191477\n",
       "43     188593\n",
       "44      95929\n",
       "45     229764\n",
       "46     137829\n",
       "47     124667\n",
       "48     131208\n",
       "49     157161\n",
       "Name: Daily Circulation, 2013, dtype: int64"
      ]
     },
     "execution_count": 33,
     "metadata": {},
     "output_type": "execute_result"
    }
   ],
   "source": [
    "pulitzers[\"Daily Circulation, 2013\"]"
   ]
  },
  {
   "cell_type": "code",
   "execution_count": 34,
   "metadata": {},
   "outputs": [
    {
     "name": "stdout",
     "output_type": "stream",
     "text": [
      "<class 'pandas.core.frame.DataFrame'>\n",
      "RangeIndex: 50 entries, 0 to 49\n",
      "Data columns (total 7 columns):\n",
      " #   Column                                             Non-Null Count  Dtype \n",
      "---  ------                                             --------------  ----- \n",
      " 0   Newspaper                                          50 non-null     object\n",
      " 1   Daily Circulation, 2004                            50 non-null     int64 \n",
      " 2   Daily Circulation, 2013                            50 non-null     int64 \n",
      " 3   Change in Daily Circulation, 2004-2013 in Percent  50 non-null     int64 \n",
      " 4   Pulitzer Prize Winners and Finalists, 1990-2003    50 non-null     int64 \n",
      " 5   Pulitzer Prize Winners and Finalists, 2004-2014    50 non-null     int64 \n",
      " 6   Pulitzer Prize Winners and Finalists, 1990-2014    50 non-null     int64 \n",
      "dtypes: int64(6), object(1)\n",
      "memory usage: 2.9+ KB\n"
     ]
    }
   ],
   "source": [
    "pulitzers.info ()"
   ]
  },
  {
   "cell_type": "code",
   "execution_count": 35,
   "metadata": {},
   "outputs": [
    {
     "data": {
      "text/plain": [
       "<seaborn.axisgrid.FacetGrid at 0x7f9a70a27d60>"
      ]
     },
     "execution_count": 35,
     "metadata": {},
     "output_type": "execute_result"
    },
    {
     "data": {
      "image/png": "[encoded data removed]",
      "text/plain": [
       "<Figure size 360x360 with 1 Axes>"
      ]
     },
     "metadata": {
      "needs_background": "light"
     },
     "output_type": "display_data"
    }
   ],
   "source": [
    "sns.lmplot(\n",
    "    x=\"Pulitzer Prize Winners and Finalists, 1990-2014\", \n",
    "    y=\"Change in Daily Circulation, 2004-2013 in Percent\", \n",
    "    data=pulitzers)"
   ]
  },
  {
   "cell_type": "markdown",
   "metadata": {},
   "source": [
    "### Restaurant Inspections\n",
    "\n",
    "In this next section, let's look at a larger dataset. This is restaurant inspections for all restaurants in Alameda County as of Aug 1, 2020. It has 55,000 rows, which is difficult to open in spreadsheet software. "
   ]
  },
  {
   "cell_type": "code",
   "execution_count": 36,
   "metadata": {},
   "outputs": [
    {
     "data": {
      "text/html": [
       "<div>\n",
       "<style scoped>\n",
       "    .dataframe tbody tr th:only-of-type {\n",
       "        vertical-align: middle;\n",
       "    }\n",
       "\n",
       "    .dataframe tbody tr th {\n",
       "        vertical-align: top;\n",
       "    }\n",
       "\n",
       "    .dataframe thead th {\n",
       "        text-align: right;\n",
       "    }\n",
       "</style>\n",
       "<table border=\"1\" class=\"dataframe\">\n",
       "  <thead>\n",
       "    <tr style=\"text-align: right;\">\n",
       "      <th></th>\n",
       "      <th>Facility_ID</th>\n",
       "      <th>Facility_Name</th>\n",
       "      <th>Address</th>\n",
       "      <th>City</th>\n",
       "      <th>State</th>\n",
       "      <th>Zip</th>\n",
       "      <th>Violation_Description</th>\n",
       "      <th>Grade</th>\n",
       "      <th>Longitude</th>\n",
       "      <th>Latitude</th>\n",
       "      <th>Activity_Date</th>\n",
       "    </tr>\n",
       "  </thead>\n",
       "  <tbody>\n",
       "    <tr>\n",
       "      <th>0</th>\n",
       "      <td>FA0323277</td>\n",
       "      <td>HUNAN CUISINE</td>\n",
       "      <td>6004 STEVENSON BLVD</td>\n",
       "      <td>FREMONT</td>\n",
       "      <td>CA</td>\n",
       "      <td>94538</td>\n",
       "      <td>Proper hot and cold holding temperatures</td>\n",
       "      <td>Y</td>\n",
       "      <td>-121.996649</td>\n",
       "      <td>37.507270</td>\n",
       "      <td>9/26/19 0:00</td>\n",
       "    </tr>\n",
       "    <tr>\n",
       "      <th>1</th>\n",
       "      <td>FA0006859</td>\n",
       "      <td>PAPAYA THAI</td>\n",
       "      <td>6066 MOWRY AVE</td>\n",
       "      <td>NEWARK</td>\n",
       "      <td>CA</td>\n",
       "      <td>94560</td>\n",
       "      <td>Food contact surfaces: clean and sanitized</td>\n",
       "      <td>Y</td>\n",
       "      <td>-122.008966</td>\n",
       "      <td>37.522690</td>\n",
       "      <td>8/14/19 0:00</td>\n",
       "    </tr>\n",
       "    <tr>\n",
       "      <th>2</th>\n",
       "      <td>FA0310088</td>\n",
       "      <td>BJ'S RESTAURANT &amp; BREWHOUSE</td>\n",
       "      <td>5699 MOWRY AVE</td>\n",
       "      <td>NEWARK</td>\n",
       "      <td>CA</td>\n",
       "      <td>94560</td>\n",
       "      <td>Premises personal/cleaning items vermin-proofing</td>\n",
       "      <td>G</td>\n",
       "      <td>-122.006290</td>\n",
       "      <td>37.526743</td>\n",
       "      <td>12/17/18 0:00</td>\n",
       "    </tr>\n",
       "    <tr>\n",
       "      <th>3</th>\n",
       "      <td>FA0305014</td>\n",
       "      <td>LA FARFALLA</td>\n",
       "      <td>39055 CEDAR BLVD 182</td>\n",
       "      <td>NEWARK</td>\n",
       "      <td>CA</td>\n",
       "      <td>94560</td>\n",
       "      <td>Wiping cloths: properly used and stored</td>\n",
       "      <td>G</td>\n",
       "      <td>-122.005118</td>\n",
       "      <td>37.523591</td>\n",
       "      <td>3/25/19 0:00</td>\n",
       "    </tr>\n",
       "    <tr>\n",
       "      <th>4</th>\n",
       "      <td>FA0306102</td>\n",
       "      <td>SIA FUSION EATERY</td>\n",
       "      <td>39263 CEDAR BLVD</td>\n",
       "      <td>NEWARK</td>\n",
       "      <td>CA</td>\n",
       "      <td>94560</td>\n",
       "      <td>Consumer advisory provided for raw or undercooked</td>\n",
       "      <td>G</td>\n",
       "      <td>-122.003482</td>\n",
       "      <td>37.522783</td>\n",
       "      <td>12/21/18 0:00</td>\n",
       "    </tr>\n",
       "  </tbody>\n",
       "</table>\n",
       "</div>"
      ],
      "text/plain": [
       "  Facility_ID                Facility_Name               Address     City  \\\n",
       "0   FA0323277                HUNAN CUISINE   6004 STEVENSON BLVD  FREMONT   \n",
       "1   FA0006859                  PAPAYA THAI        6066 MOWRY AVE   NEWARK   \n",
       "2   FA0310088  BJ'S RESTAURANT & BREWHOUSE        5699 MOWRY AVE   NEWARK   \n",
       "3   FA0305014                  LA FARFALLA  39055 CEDAR BLVD 182   NEWARK   \n",
       "4   FA0306102            SIA FUSION EATERY      39263 CEDAR BLVD   NEWARK   \n",
       "\n",
       "  State    Zip                              Violation_Description Grade  \\\n",
       "0    CA  94538           Proper hot and cold holding temperatures     Y   \n",
       "1    CA  94560         Food contact surfaces: clean and sanitized     Y   \n",
       "2    CA  94560   Premises personal/cleaning items vermin-proofing     G   \n",
       "3    CA  94560            Wiping cloths: properly used and stored     G   \n",
       "4    CA  94560  Consumer advisory provided for raw or undercooked     G   \n",
       "\n",
       "    Longitude   Latitude  Activity_Date  \n",
       "0 -121.996649  37.507270   9/26/19 0:00  \n",
       "1 -122.008966  37.522690   8/14/19 0:00  \n",
       "2 -122.006290  37.526743  12/17/18 0:00  \n",
       "3 -122.005118  37.523591   3/25/19 0:00  \n",
       "4 -122.003482  37.522783  12/21/18 0:00  "
      ]
     },
     "execution_count": 36,
     "metadata": {},
     "output_type": "execute_result"
    }
   ],
   "source": [
    "inspections = pd.read_csv(\"Restaurant_Inspections.csv\")\n",
    "inspections.head()"
   ]
  },
  {
   "cell_type": "markdown",
   "metadata": {},
   "source": [
    "We can look at unique values for any column of data. Let's look at the Grade column to see what grades were given. (They correspond to colors)"
   ]
  },
  {
   "cell_type": "code",
   "execution_count": 37,
   "metadata": {},
   "outputs": [
    {
     "data": {
      "text/plain": [
       "array(['Y', 'G', 'R'], dtype=object)"
      ]
     },
     "execution_count": 37,
     "metadata": {},
     "output_type": "execute_result"
    }
   ],
   "source": [
    "inspections.Grade.unique()"
   ]
  },
  {
   "cell_type": "code",
   "execution_count": 38,
   "metadata": {},
   "outputs": [
    {
     "data": {
      "text/plain": [
       "Grade\n",
       "G    41755\n",
       "R     2756\n",
       "Y     9035\n",
       "Name: Facility_ID, dtype: int64"
      ]
     },
     "execution_count": 38,
     "metadata": {},
     "output_type": "execute_result"
    }
   ],
   "source": [
    "inspections.groupby(\"Grade\").Facility_ID.count()"
   ]
  },
  {
   "cell_type": "markdown",
   "metadata": {},
   "source": [
    "We can search by grade or by a name of a specific restaurant."
   ]
  },
  {
   "cell_type": "code",
   "execution_count": 39,
   "metadata": {},
   "outputs": [
    {
     "data": {
      "text/html": [
       "<div>\n",
       "<style scoped>\n",
       "    .dataframe tbody tr th:only-of-type {\n",
       "        vertical-align: middle;\n",
       "    }\n",
       "\n",
       "    .dataframe tbody tr th {\n",
       "        vertical-align: top;\n",
       "    }\n",
       "\n",
       "    .dataframe thead th {\n",
       "        text-align: right;\n",
       "    }\n",
       "</style>\n",
       "<table border=\"1\" class=\"dataframe\">\n",
       "  <thead>\n",
       "    <tr style=\"text-align: right;\">\n",
       "      <th></th>\n",
       "      <th>Facility_ID</th>\n",
       "      <th>Facility_Name</th>\n",
       "      <th>Address</th>\n",
       "      <th>City</th>\n",
       "      <th>State</th>\n",
       "      <th>Zip</th>\n",
       "      <th>Violation_Description</th>\n",
       "      <th>Grade</th>\n",
       "      <th>Longitude</th>\n",
       "      <th>Latitude</th>\n",
       "      <th>Activity_Date</th>\n",
       "    </tr>\n",
       "  </thead>\n",
       "  <tbody>\n",
       "    <tr>\n",
       "      <th>16</th>\n",
       "      <td>FA0000116</td>\n",
       "      <td>7-ELEVEN FOOD STORE #2369-18608E</td>\n",
       "      <td>4100 BROADWAY</td>\n",
       "      <td>OAKLAND</td>\n",
       "      <td>CA</td>\n",
       "      <td>94611</td>\n",
       "      <td>Signs posted last inspection report available</td>\n",
       "      <td>R</td>\n",
       "      <td>-122.255708</td>\n",
       "      <td>37.829098</td>\n",
       "      <td>11/7/19 0:00</td>\n",
       "    </tr>\n",
       "    <tr>\n",
       "      <th>22</th>\n",
       "      <td>FA0001150</td>\n",
       "      <td>TAKARA SUSHI</td>\n",
       "      <td>5897-99 COLLEGE AVE</td>\n",
       "      <td>OAKLAND</td>\n",
       "      <td>CA</td>\n",
       "      <td>94618</td>\n",
       "      <td>No rodents, insects, birds, or animals</td>\n",
       "      <td>R</td>\n",
       "      <td>-122.252079</td>\n",
       "      <td>37.847170</td>\n",
       "      <td>12/3/18 0:00</td>\n",
       "    </tr>\n",
       "    <tr>\n",
       "      <th>38</th>\n",
       "      <td>FA0323158</td>\n",
       "      <td>BLIND TIGER</td>\n",
       "      <td>2600 TELEGRAPH AVE</td>\n",
       "      <td>OAKLAND</td>\n",
       "      <td>CA</td>\n",
       "      <td>94612</td>\n",
       "      <td>Food contact surfaces: clean and sanitized</td>\n",
       "      <td>R</td>\n",
       "      <td>-122.268005</td>\n",
       "      <td>37.815789</td>\n",
       "      <td>8/27/19 0:00</td>\n",
       "    </tr>\n",
       "    <tr>\n",
       "      <th>52</th>\n",
       "      <td>FA0000448</td>\n",
       "      <td>LAKEHURST HOTEL</td>\n",
       "      <td>1569 JACKSON ST</td>\n",
       "      <td>OAKLAND</td>\n",
       "      <td>CA</td>\n",
       "      <td>94612</td>\n",
       "      <td>Floors, walls and ceilings: built, maintained,...</td>\n",
       "      <td>R</td>\n",
       "      <td>-122.264309</td>\n",
       "      <td>37.803529</td>\n",
       "      <td>9/28/18 0:00</td>\n",
       "    </tr>\n",
       "    <tr>\n",
       "      <th>95</th>\n",
       "      <td>FA0004962</td>\n",
       "      <td>BILL'S CAFE</td>\n",
       "      <td>3015 HOPYARD RD #A-C</td>\n",
       "      <td>PLEASANTON</td>\n",
       "      <td>CA</td>\n",
       "      <td>94588</td>\n",
       "      <td>Proper hot and cold holding temperatures</td>\n",
       "      <td>R</td>\n",
       "      <td>-121.896882</td>\n",
       "      <td>37.676045</td>\n",
       "      <td>8/16/19 0:00</td>\n",
       "    </tr>\n",
       "    <tr>\n",
       "      <th>...</th>\n",
       "      <td>...</td>\n",
       "      <td>...</td>\n",
       "      <td>...</td>\n",
       "      <td>...</td>\n",
       "      <td>...</td>\n",
       "      <td>...</td>\n",
       "      <td>...</td>\n",
       "      <td>...</td>\n",
       "      <td>...</td>\n",
       "      <td>...</td>\n",
       "      <td>...</td>\n",
       "    </tr>\n",
       "    <tr>\n",
       "      <th>53473</th>\n",
       "      <td>FA0003401</td>\n",
       "      <td>MEHRAN RESTAURANT</td>\n",
       "      <td>5774 MOWRY SCHOOL RD</td>\n",
       "      <td>NEWARK</td>\n",
       "      <td>CA</td>\n",
       "      <td>94560</td>\n",
       "      <td>Proper eating, tasting, drinking or tobacco use</td>\n",
       "      <td>R</td>\n",
       "      <td>-122.006519</td>\n",
       "      <td>37.526406</td>\n",
       "      <td>9/19/19 0:00</td>\n",
       "    </tr>\n",
       "    <tr>\n",
       "      <th>53485</th>\n",
       "      <td>FA0003767</td>\n",
       "      <td>LOVELY SWEETS &amp; SNACKS</td>\n",
       "      <td>41031 FREMONT BLVD</td>\n",
       "      <td>FREMONT</td>\n",
       "      <td>CA</td>\n",
       "      <td>94538</td>\n",
       "      <td>Adequate ventilation and lighting designated area</td>\n",
       "      <td>R</td>\n",
       "      <td>-121.958840</td>\n",
       "      <td>37.530919</td>\n",
       "      <td>9/10/18 0:00</td>\n",
       "    </tr>\n",
       "    <tr>\n",
       "      <th>53496</th>\n",
       "      <td>FA0006107</td>\n",
       "      <td>UNA MAS MEXICAN GRILL</td>\n",
       "      <td>1476 FIRST ST</td>\n",
       "      <td>LIVERMORE</td>\n",
       "      <td>CA</td>\n",
       "      <td>94550</td>\n",
       "      <td>Permit Suspension</td>\n",
       "      <td>R</td>\n",
       "      <td>-121.777213</td>\n",
       "      <td>37.679128</td>\n",
       "      <td>8/27/18 0:00</td>\n",
       "    </tr>\n",
       "    <tr>\n",
       "      <th>53516</th>\n",
       "      <td>FA0003791</td>\n",
       "      <td>NEW YORK PIZZA PLEASANTON</td>\n",
       "      <td>690 MAIN ST</td>\n",
       "      <td>PLEASANTON</td>\n",
       "      <td>CA</td>\n",
       "      <td>94566</td>\n",
       "      <td>Floors, walls and ceilings: built, maintained,...</td>\n",
       "      <td>R</td>\n",
       "      <td>-121.874833</td>\n",
       "      <td>37.662661</td>\n",
       "      <td>3/28/19 0:00</td>\n",
       "    </tr>\n",
       "    <tr>\n",
       "      <th>53523</th>\n",
       "      <td>FA0003700</td>\n",
       "      <td>BOTTLE SHOP</td>\n",
       "      <td>40919 FREMONT BLVD</td>\n",
       "      <td>FREMONT</td>\n",
       "      <td>CA</td>\n",
       "      <td>94538</td>\n",
       "      <td>Floors, walls and ceilings: built, maintained,...</td>\n",
       "      <td>R</td>\n",
       "      <td>-121.961191</td>\n",
       "      <td>37.534046</td>\n",
       "      <td>11/1/18 0:00</td>\n",
       "    </tr>\n",
       "  </tbody>\n",
       "</table>\n",
       "<p>2756 rows × 11 columns</p>\n",
       "</div>"
      ],
      "text/plain": [
       "      Facility_ID                     Facility_Name               Address  \\\n",
       "16      FA0000116  7-ELEVEN FOOD STORE #2369-18608E         4100 BROADWAY   \n",
       "22      FA0001150                      TAKARA SUSHI   5897-99 COLLEGE AVE   \n",
       "38      FA0323158                       BLIND TIGER    2600 TELEGRAPH AVE   \n",
       "52      FA0000448                   LAKEHURST HOTEL       1569 JACKSON ST   \n",
       "95      FA0004962                       BILL'S CAFE  3015 HOPYARD RD #A-C   \n",
       "...           ...                               ...                   ...   \n",
       "53473   FA0003401                 MEHRAN RESTAURANT  5774 MOWRY SCHOOL RD   \n",
       "53485   FA0003767            LOVELY SWEETS & SNACKS    41031 FREMONT BLVD   \n",
       "53496   FA0006107             UNA MAS MEXICAN GRILL         1476 FIRST ST   \n",
       "53516   FA0003791         NEW YORK PIZZA PLEASANTON           690 MAIN ST   \n",
       "53523   FA0003700                       BOTTLE SHOP    40919 FREMONT BLVD   \n",
       "\n",
       "             City State    Zip  \\\n",
       "16        OAKLAND    CA  94611   \n",
       "22        OAKLAND    CA  94618   \n",
       "38        OAKLAND    CA  94612   \n",
       "52        OAKLAND    CA  94612   \n",
       "95     PLEASANTON    CA  94588   \n",
       "...           ...   ...    ...   \n",
       "53473      NEWARK    CA  94560   \n",
       "53485     FREMONT    CA  94538   \n",
       "53496   LIVERMORE    CA  94550   \n",
       "53516  PLEASANTON    CA  94566   \n",
       "53523     FREMONT    CA  94538   \n",
       "\n",
       "                                   Violation_Description Grade   Longitude  \\\n",
       "16         Signs posted last inspection report available     R -122.255708   \n",
       "22                No rodents, insects, birds, or animals     R -122.252079   \n",
       "38            Food contact surfaces: clean and sanitized     R -122.268005   \n",
       "52     Floors, walls and ceilings: built, maintained,...     R -122.264309   \n",
       "95              Proper hot and cold holding temperatures     R -121.896882   \n",
       "...                                                  ...   ...         ...   \n",
       "53473    Proper eating, tasting, drinking or tobacco use     R -122.006519   \n",
       "53485  Adequate ventilation and lighting designated area     R -121.958840   \n",
       "53496                                  Permit Suspension     R -121.777213   \n",
       "53516  Floors, walls and ceilings: built, maintained,...     R -121.874833   \n",
       "53523  Floors, walls and ceilings: built, maintained,...     R -121.961191   \n",
       "\n",
       "        Latitude Activity_Date  \n",
       "16     37.829098  11/7/19 0:00  \n",
       "22     37.847170  12/3/18 0:00  \n",
       "38     37.815789  8/27/19 0:00  \n",
       "52     37.803529  9/28/18 0:00  \n",
       "95     37.676045  8/16/19 0:00  \n",
       "...          ...           ...  \n",
       "53473  37.526406  9/19/19 0:00  \n",
       "53485  37.530919  9/10/18 0:00  \n",
       "53496  37.679128  8/27/18 0:00  \n",
       "53516  37.662661  3/28/19 0:00  \n",
       "53523  37.534046  11/1/18 0:00  \n",
       "\n",
       "[2756 rows x 11 columns]"
      ]
     },
     "execution_count": 39,
     "metadata": {},
     "output_type": "execute_result"
    }
   ],
   "source": [
    "inspections[inspections[\"Grade\"] == \"R\"]"
   ]
  },
  {
   "cell_type": "code",
   "execution_count": 40,
   "metadata": {},
   "outputs": [
    {
     "data": {
      "text/html": [
       "<div>\n",
       "<style scoped>\n",
       "    .dataframe tbody tr th:only-of-type {\n",
       "        vertical-align: middle;\n",
       "    }\n",
       "\n",
       "    .dataframe tbody tr th {\n",
       "        vertical-align: top;\n",
       "    }\n",
       "\n",
       "    .dataframe thead th {\n",
       "        text-align: right;\n",
       "    }\n",
       "</style>\n",
       "<table border=\"1\" class=\"dataframe\">\n",
       "  <thead>\n",
       "    <tr style=\"text-align: right;\">\n",
       "      <th></th>\n",
       "      <th>Facility_ID</th>\n",
       "      <th>Facility_Name</th>\n",
       "      <th>Address</th>\n",
       "      <th>State</th>\n",
       "      <th>Zip</th>\n",
       "      <th>Violation_Description</th>\n",
       "      <th>Grade</th>\n",
       "      <th>Longitude</th>\n",
       "      <th>Latitude</th>\n",
       "      <th>Activity_Date</th>\n",
       "    </tr>\n",
       "    <tr>\n",
       "      <th>City</th>\n",
       "      <th></th>\n",
       "      <th></th>\n",
       "      <th></th>\n",
       "      <th></th>\n",
       "      <th></th>\n",
       "      <th></th>\n",
       "      <th></th>\n",
       "      <th></th>\n",
       "      <th></th>\n",
       "      <th></th>\n",
       "    </tr>\n",
       "  </thead>\n",
       "  <tbody>\n",
       "    <tr>\n",
       "      <th>ALAMEDA</th>\n",
       "      <td>149</td>\n",
       "      <td>149</td>\n",
       "      <td>149</td>\n",
       "      <td>149</td>\n",
       "      <td>149</td>\n",
       "      <td>149</td>\n",
       "      <td>149</td>\n",
       "      <td>149</td>\n",
       "      <td>149</td>\n",
       "      <td>149</td>\n",
       "    </tr>\n",
       "    <tr>\n",
       "      <th>ALBANY</th>\n",
       "      <td>1</td>\n",
       "      <td>1</td>\n",
       "      <td>1</td>\n",
       "      <td>1</td>\n",
       "      <td>1</td>\n",
       "      <td>1</td>\n",
       "      <td>1</td>\n",
       "      <td>1</td>\n",
       "      <td>1</td>\n",
       "      <td>1</td>\n",
       "    </tr>\n",
       "    <tr>\n",
       "      <th>CASTRO VALLEY</th>\n",
       "      <td>29</td>\n",
       "      <td>29</td>\n",
       "      <td>29</td>\n",
       "      <td>29</td>\n",
       "      <td>29</td>\n",
       "      <td>29</td>\n",
       "      <td>29</td>\n",
       "      <td>29</td>\n",
       "      <td>29</td>\n",
       "      <td>29</td>\n",
       "    </tr>\n",
       "    <tr>\n",
       "      <th>DUBLIN</th>\n",
       "      <td>20</td>\n",
       "      <td>20</td>\n",
       "      <td>20</td>\n",
       "      <td>20</td>\n",
       "      <td>20</td>\n",
       "      <td>20</td>\n",
       "      <td>20</td>\n",
       "      <td>20</td>\n",
       "      <td>20</td>\n",
       "      <td>20</td>\n",
       "    </tr>\n",
       "    <tr>\n",
       "      <th>EMERYVILLE</th>\n",
       "      <td>37</td>\n",
       "      <td>37</td>\n",
       "      <td>37</td>\n",
       "      <td>37</td>\n",
       "      <td>37</td>\n",
       "      <td>37</td>\n",
       "      <td>37</td>\n",
       "      <td>37</td>\n",
       "      <td>37</td>\n",
       "      <td>37</td>\n",
       "    </tr>\n",
       "    <tr>\n",
       "      <th>FREMONT</th>\n",
       "      <td>370</td>\n",
       "      <td>370</td>\n",
       "      <td>370</td>\n",
       "      <td>370</td>\n",
       "      <td>370</td>\n",
       "      <td>370</td>\n",
       "      <td>370</td>\n",
       "      <td>370</td>\n",
       "      <td>370</td>\n",
       "      <td>370</td>\n",
       "    </tr>\n",
       "    <tr>\n",
       "      <th>HAYWARD</th>\n",
       "      <td>28</td>\n",
       "      <td>28</td>\n",
       "      <td>28</td>\n",
       "      <td>28</td>\n",
       "      <td>28</td>\n",
       "      <td>28</td>\n",
       "      <td>28</td>\n",
       "      <td>28</td>\n",
       "      <td>28</td>\n",
       "      <td>28</td>\n",
       "    </tr>\n",
       "    <tr>\n",
       "      <th>LIVERMORE</th>\n",
       "      <td>340</td>\n",
       "      <td>340</td>\n",
       "      <td>340</td>\n",
       "      <td>340</td>\n",
       "      <td>340</td>\n",
       "      <td>340</td>\n",
       "      <td>340</td>\n",
       "      <td>340</td>\n",
       "      <td>340</td>\n",
       "      <td>340</td>\n",
       "    </tr>\n",
       "    <tr>\n",
       "      <th>NEWARK</th>\n",
       "      <td>158</td>\n",
       "      <td>158</td>\n",
       "      <td>158</td>\n",
       "      <td>158</td>\n",
       "      <td>158</td>\n",
       "      <td>158</td>\n",
       "      <td>158</td>\n",
       "      <td>158</td>\n",
       "      <td>158</td>\n",
       "      <td>158</td>\n",
       "    </tr>\n",
       "    <tr>\n",
       "      <th>OAKLAND</th>\n",
       "      <td>970</td>\n",
       "      <td>970</td>\n",
       "      <td>970</td>\n",
       "      <td>970</td>\n",
       "      <td>970</td>\n",
       "      <td>970</td>\n",
       "      <td>970</td>\n",
       "      <td>970</td>\n",
       "      <td>970</td>\n",
       "      <td>970</td>\n",
       "    </tr>\n",
       "    <tr>\n",
       "      <th>PLEASANTON</th>\n",
       "      <td>306</td>\n",
       "      <td>306</td>\n",
       "      <td>306</td>\n",
       "      <td>306</td>\n",
       "      <td>306</td>\n",
       "      <td>306</td>\n",
       "      <td>306</td>\n",
       "      <td>306</td>\n",
       "      <td>306</td>\n",
       "      <td>306</td>\n",
       "    </tr>\n",
       "    <tr>\n",
       "      <th>SAN LEANDRO</th>\n",
       "      <td>26</td>\n",
       "      <td>26</td>\n",
       "      <td>26</td>\n",
       "      <td>26</td>\n",
       "      <td>26</td>\n",
       "      <td>26</td>\n",
       "      <td>26</td>\n",
       "      <td>26</td>\n",
       "      <td>26</td>\n",
       "      <td>26</td>\n",
       "    </tr>\n",
       "    <tr>\n",
       "      <th>SUNOL</th>\n",
       "      <td>15</td>\n",
       "      <td>15</td>\n",
       "      <td>15</td>\n",
       "      <td>15</td>\n",
       "      <td>15</td>\n",
       "      <td>15</td>\n",
       "      <td>15</td>\n",
       "      <td>15</td>\n",
       "      <td>15</td>\n",
       "      <td>15</td>\n",
       "    </tr>\n",
       "    <tr>\n",
       "      <th>UNION CITY</th>\n",
       "      <td>307</td>\n",
       "      <td>307</td>\n",
       "      <td>307</td>\n",
       "      <td>307</td>\n",
       "      <td>307</td>\n",
       "      <td>307</td>\n",
       "      <td>307</td>\n",
       "      <td>307</td>\n",
       "      <td>307</td>\n",
       "      <td>307</td>\n",
       "    </tr>\n",
       "  </tbody>\n",
       "</table>\n",
       "</div>"
      ],
      "text/plain": [
       "               Facility_ID  Facility_Name  Address  State  Zip  \\\n",
       "City                                                             \n",
       "ALAMEDA                149            149      149    149  149   \n",
       "ALBANY                   1              1        1      1    1   \n",
       "CASTRO VALLEY           29             29       29     29   29   \n",
       "DUBLIN                  20             20       20     20   20   \n",
       "EMERYVILLE              37             37       37     37   37   \n",
       "FREMONT                370            370      370    370  370   \n",
       "HAYWARD                 28             28       28     28   28   \n",
       "LIVERMORE              340            340      340    340  340   \n",
       "NEWARK                 158            158      158    158  158   \n",
       "OAKLAND                970            970      970    970  970   \n",
       "PLEASANTON             306            306      306    306  306   \n",
       "SAN LEANDRO             26             26       26     26   26   \n",
       "SUNOL                   15             15       15     15   15   \n",
       "UNION CITY             307            307      307    307  307   \n",
       "\n",
       "               Violation_Description  Grade  Longitude  Latitude  \\\n",
       "City                                                               \n",
       "ALAMEDA                          149    149        149       149   \n",
       "ALBANY                             1      1          1         1   \n",
       "CASTRO VALLEY                     29     29         29        29   \n",
       "DUBLIN                            20     20         20        20   \n",
       "EMERYVILLE                        37     37         37        37   \n",
       "FREMONT                          370    370        370       370   \n",
       "HAYWARD                           28     28         28        28   \n",
       "LIVERMORE                        340    340        340       340   \n",
       "NEWARK                           158    158        158       158   \n",
       "OAKLAND                          970    970        970       970   \n",
       "PLEASANTON                       306    306        306       306   \n",
       "SAN LEANDRO                       26     26         26        26   \n",
       "SUNOL                             15     15         15        15   \n",
       "UNION CITY                       307    307        307       307   \n",
       "\n",
       "               Activity_Date  \n",
       "City                          \n",
       "ALAMEDA                  149  \n",
       "ALBANY                     1  \n",
       "CASTRO VALLEY             29  \n",
       "DUBLIN                    20  \n",
       "EMERYVILLE                37  \n",
       "FREMONT                  370  \n",
       "HAYWARD                   28  \n",
       "LIVERMORE                340  \n",
       "NEWARK                   158  \n",
       "OAKLAND                  970  \n",
       "PLEASANTON               306  \n",
       "SAN LEANDRO               26  \n",
       "SUNOL                     15  \n",
       "UNION CITY               307  "
      ]
     },
     "execution_count": 40,
     "metadata": {},
     "output_type": "execute_result"
    }
   ],
   "source": [
    "reds = inspections[inspections[\"Grade\"] == \"R\"]\n",
    "reds.groupby(\"City\").count()"
   ]
  },
  {
   "cell_type": "code",
   "execution_count": 41,
   "metadata": {},
   "outputs": [
    {
     "data": {
      "text/html": [
       "<div>\n",
       "<style scoped>\n",
       "    .dataframe tbody tr th:only-of-type {\n",
       "        vertical-align: middle;\n",
       "    }\n",
       "\n",
       "    .dataframe tbody tr th {\n",
       "        vertical-align: top;\n",
       "    }\n",
       "\n",
       "    .dataframe thead th {\n",
       "        text-align: right;\n",
       "    }\n",
       "</style>\n",
       "<table border=\"1\" class=\"dataframe\">\n",
       "  <thead>\n",
       "    <tr style=\"text-align: right;\">\n",
       "      <th></th>\n",
       "      <th>Facility_ID</th>\n",
       "      <th>Facility_Name</th>\n",
       "      <th>Address</th>\n",
       "      <th>City</th>\n",
       "      <th>State</th>\n",
       "      <th>Zip</th>\n",
       "      <th>Violation_Description</th>\n",
       "      <th>Grade</th>\n",
       "      <th>Longitude</th>\n",
       "      <th>Latitude</th>\n",
       "      <th>Activity_Date</th>\n",
       "    </tr>\n",
       "  </thead>\n",
       "  <tbody>\n",
       "    <tr>\n",
       "      <th>38</th>\n",
       "      <td>FA0323158</td>\n",
       "      <td>BLIND TIGER</td>\n",
       "      <td>2600 TELEGRAPH AVE</td>\n",
       "      <td>OAKLAND</td>\n",
       "      <td>CA</td>\n",
       "      <td>94612</td>\n",
       "      <td>Food contact surfaces: clean and sanitized</td>\n",
       "      <td>R</td>\n",
       "      <td>-122.268005</td>\n",
       "      <td>37.815789</td>\n",
       "      <td>8/27/19 0:00</td>\n",
       "    </tr>\n",
       "    <tr>\n",
       "      <th>4631</th>\n",
       "      <td>FA0323158</td>\n",
       "      <td>BLIND TIGER</td>\n",
       "      <td>2600 TELEGRAPH AVE</td>\n",
       "      <td>OAKLAND</td>\n",
       "      <td>CA</td>\n",
       "      <td>94612</td>\n",
       "      <td>Food contact surfaces: clean and sanitized</td>\n",
       "      <td>G</td>\n",
       "      <td>-122.268005</td>\n",
       "      <td>37.815789</td>\n",
       "      <td>11/19/19 0:00</td>\n",
       "    </tr>\n",
       "    <tr>\n",
       "      <th>6498</th>\n",
       "      <td>FA0323158</td>\n",
       "      <td>BLIND TIGER</td>\n",
       "      <td>2600 TELEGRAPH AVE</td>\n",
       "      <td>OAKLAND</td>\n",
       "      <td>CA</td>\n",
       "      <td>94612</td>\n",
       "      <td>No rodents, insects, birds, or animals</td>\n",
       "      <td>Y</td>\n",
       "      <td>-122.268005</td>\n",
       "      <td>37.815789</td>\n",
       "      <td>10/25/18 0:00</td>\n",
       "    </tr>\n",
       "    <tr>\n",
       "      <th>9230</th>\n",
       "      <td>FA0323158</td>\n",
       "      <td>BLIND TIGER</td>\n",
       "      <td>2600 TELEGRAPH AVE</td>\n",
       "      <td>OAKLAND</td>\n",
       "      <td>CA</td>\n",
       "      <td>94612</td>\n",
       "      <td>Premises personal/cleaning items vermin-proofing</td>\n",
       "      <td>R</td>\n",
       "      <td>-122.268005</td>\n",
       "      <td>37.815789</td>\n",
       "      <td>8/27/19 0:00</td>\n",
       "    </tr>\n",
       "    <tr>\n",
       "      <th>12576</th>\n",
       "      <td>FA0323158</td>\n",
       "      <td>BLIND TIGER</td>\n",
       "      <td>2600 TELEGRAPH AVE</td>\n",
       "      <td>OAKLAND</td>\n",
       "      <td>CA</td>\n",
       "      <td>94612</td>\n",
       "      <td>Food contact surfaces: clean and sanitized</td>\n",
       "      <td>R</td>\n",
       "      <td>-122.268005</td>\n",
       "      <td>37.815789</td>\n",
       "      <td>7/26/19 0:00</td>\n",
       "    </tr>\n",
       "    <tr>\n",
       "      <th>12782</th>\n",
       "      <td>FA0323158</td>\n",
       "      <td>BLIND TIGER</td>\n",
       "      <td>2600 TELEGRAPH AVE</td>\n",
       "      <td>OAKLAND</td>\n",
       "      <td>CA</td>\n",
       "      <td>94612</td>\n",
       "      <td>Adequate handwashing facilities supplied &amp; acc...</td>\n",
       "      <td>Y</td>\n",
       "      <td>-122.268005</td>\n",
       "      <td>37.815789</td>\n",
       "      <td>10/25/18 0:00</td>\n",
       "    </tr>\n",
       "    <tr>\n",
       "      <th>12783</th>\n",
       "      <td>FA0323158</td>\n",
       "      <td>BLIND TIGER</td>\n",
       "      <td>2600 TELEGRAPH AVE</td>\n",
       "      <td>OAKLAND</td>\n",
       "      <td>CA</td>\n",
       "      <td>94612</td>\n",
       "      <td>Signs posted last inspection report available</td>\n",
       "      <td>Y</td>\n",
       "      <td>-122.268005</td>\n",
       "      <td>37.815789</td>\n",
       "      <td>10/25/18 0:00</td>\n",
       "    </tr>\n",
       "    <tr>\n",
       "      <th>14125</th>\n",
       "      <td>FA0323158</td>\n",
       "      <td>BLIND TIGER</td>\n",
       "      <td>2600 TELEGRAPH AVE</td>\n",
       "      <td>OAKLAND</td>\n",
       "      <td>CA</td>\n",
       "      <td>94612</td>\n",
       "      <td>Food separated and protected</td>\n",
       "      <td>R</td>\n",
       "      <td>-122.268005</td>\n",
       "      <td>37.815789</td>\n",
       "      <td>7/26/19 0:00</td>\n",
       "    </tr>\n",
       "    <tr>\n",
       "      <th>15356</th>\n",
       "      <td>FA0323158</td>\n",
       "      <td>BLIND TIGER</td>\n",
       "      <td>2600 TELEGRAPH AVE</td>\n",
       "      <td>OAKLAND</td>\n",
       "      <td>CA</td>\n",
       "      <td>94612</td>\n",
       "      <td>Adequate handwashing facilities supplied &amp; acc...</td>\n",
       "      <td>R</td>\n",
       "      <td>-122.268005</td>\n",
       "      <td>37.815789</td>\n",
       "      <td>7/26/19 0:00</td>\n",
       "    </tr>\n",
       "    <tr>\n",
       "      <th>16180</th>\n",
       "      <td>FA0323158</td>\n",
       "      <td>BLIND TIGER</td>\n",
       "      <td>2600 TELEGRAPH AVE</td>\n",
       "      <td>OAKLAND</td>\n",
       "      <td>CA</td>\n",
       "      <td>94612</td>\n",
       "      <td>Wiping cloths: properly used and stored</td>\n",
       "      <td>R</td>\n",
       "      <td>-122.268005</td>\n",
       "      <td>37.815789</td>\n",
       "      <td>8/27/19 0:00</td>\n",
       "    </tr>\n",
       "    <tr>\n",
       "      <th>17659</th>\n",
       "      <td>FA0323158</td>\n",
       "      <td>BLIND TIGER</td>\n",
       "      <td>2600 TELEGRAPH AVE</td>\n",
       "      <td>OAKLAND</td>\n",
       "      <td>CA</td>\n",
       "      <td>94612</td>\n",
       "      <td>Floors, walls and ceilings: built, maintained,...</td>\n",
       "      <td>G</td>\n",
       "      <td>-122.268005</td>\n",
       "      <td>37.815789</td>\n",
       "      <td>11/19/19 0:00</td>\n",
       "    </tr>\n",
       "    <tr>\n",
       "      <th>20686</th>\n",
       "      <td>FA0323158</td>\n",
       "      <td>BLIND TIGER</td>\n",
       "      <td>2600 TELEGRAPH AVE</td>\n",
       "      <td>OAKLAND</td>\n",
       "      <td>CA</td>\n",
       "      <td>94612</td>\n",
       "      <td>Floors, walls and ceilings: built, maintained,...</td>\n",
       "      <td>G</td>\n",
       "      <td>-122.268005</td>\n",
       "      <td>37.815789</td>\n",
       "      <td>11/6/18 0:00</td>\n",
       "    </tr>\n",
       "    <tr>\n",
       "      <th>21109</th>\n",
       "      <td>FA0323158</td>\n",
       "      <td>BLIND TIGER</td>\n",
       "      <td>2600 TELEGRAPH AVE</td>\n",
       "      <td>OAKLAND</td>\n",
       "      <td>CA</td>\n",
       "      <td>94612</td>\n",
       "      <td>No rodents, insects, birds, or animals</td>\n",
       "      <td>G</td>\n",
       "      <td>-122.268005</td>\n",
       "      <td>37.815789</td>\n",
       "      <td>11/6/18 0:00</td>\n",
       "    </tr>\n",
       "    <tr>\n",
       "      <th>21866</th>\n",
       "      <td>FA0323158</td>\n",
       "      <td>BLIND TIGER</td>\n",
       "      <td>2600 TELEGRAPH AVE</td>\n",
       "      <td>OAKLAND</td>\n",
       "      <td>CA</td>\n",
       "      <td>94612</td>\n",
       "      <td>Proper cooling methods</td>\n",
       "      <td>G</td>\n",
       "      <td>-122.268005</td>\n",
       "      <td>37.815789</td>\n",
       "      <td>11/19/19 0:00</td>\n",
       "    </tr>\n",
       "    <tr>\n",
       "      <th>22713</th>\n",
       "      <td>FA0323158</td>\n",
       "      <td>BLIND TIGER</td>\n",
       "      <td>2600 TELEGRAPH AVE</td>\n",
       "      <td>OAKLAND</td>\n",
       "      <td>CA</td>\n",
       "      <td>94612</td>\n",
       "      <td>Wiping cloths: properly used and stored</td>\n",
       "      <td>Y</td>\n",
       "      <td>-122.268005</td>\n",
       "      <td>37.815789</td>\n",
       "      <td>10/25/18 0:00</td>\n",
       "    </tr>\n",
       "    <tr>\n",
       "      <th>23142</th>\n",
       "      <td>FA0323158</td>\n",
       "      <td>BLIND TIGER</td>\n",
       "      <td>2600 TELEGRAPH AVE</td>\n",
       "      <td>OAKLAND</td>\n",
       "      <td>CA</td>\n",
       "      <td>94612</td>\n",
       "      <td>Adequate ventilation and lighting designated area</td>\n",
       "      <td>G</td>\n",
       "      <td>-122.268005</td>\n",
       "      <td>37.815789</td>\n",
       "      <td>11/19/19 0:00</td>\n",
       "    </tr>\n",
       "    <tr>\n",
       "      <th>24409</th>\n",
       "      <td>FA0323158</td>\n",
       "      <td>BLIND TIGER</td>\n",
       "      <td>2600 TELEGRAPH AVE</td>\n",
       "      <td>OAKLAND</td>\n",
       "      <td>CA</td>\n",
       "      <td>94612</td>\n",
       "      <td>Signs posted last inspection report available</td>\n",
       "      <td>R</td>\n",
       "      <td>-122.268005</td>\n",
       "      <td>37.815789</td>\n",
       "      <td>8/27/19 0:00</td>\n",
       "    </tr>\n",
       "    <tr>\n",
       "      <th>25605</th>\n",
       "      <td>FA0323158</td>\n",
       "      <td>BLIND TIGER</td>\n",
       "      <td>2600 TELEGRAPH AVE</td>\n",
       "      <td>OAKLAND</td>\n",
       "      <td>CA</td>\n",
       "      <td>94612</td>\n",
       "      <td>Adequate ventilation and lighting designated area</td>\n",
       "      <td>R</td>\n",
       "      <td>-122.268005</td>\n",
       "      <td>37.815789</td>\n",
       "      <td>7/26/19 0:00</td>\n",
       "    </tr>\n",
       "    <tr>\n",
       "      <th>27989</th>\n",
       "      <td>FA0323158</td>\n",
       "      <td>BLIND TIGER</td>\n",
       "      <td>2600 TELEGRAPH AVE</td>\n",
       "      <td>OAKLAND</td>\n",
       "      <td>CA</td>\n",
       "      <td>94612</td>\n",
       "      <td>No rodents, insects, birds, or animals</td>\n",
       "      <td>R</td>\n",
       "      <td>-122.268005</td>\n",
       "      <td>37.815789</td>\n",
       "      <td>8/27/19 0:00</td>\n",
       "    </tr>\n",
       "    <tr>\n",
       "      <th>28460</th>\n",
       "      <td>FA0323158</td>\n",
       "      <td>BLIND TIGER</td>\n",
       "      <td>2600 TELEGRAPH AVE</td>\n",
       "      <td>OAKLAND</td>\n",
       "      <td>CA</td>\n",
       "      <td>94612</td>\n",
       "      <td>No rodents, insects, birds, or animals</td>\n",
       "      <td>R</td>\n",
       "      <td>-122.268005</td>\n",
       "      <td>37.815789</td>\n",
       "      <td>7/26/19 0:00</td>\n",
       "    </tr>\n",
       "    <tr>\n",
       "      <th>28466</th>\n",
       "      <td>FA0323158</td>\n",
       "      <td>BLIND TIGER</td>\n",
       "      <td>2600 TELEGRAPH AVE</td>\n",
       "      <td>OAKLAND</td>\n",
       "      <td>CA</td>\n",
       "      <td>94612</td>\n",
       "      <td>Demonstration of knowledge food manager certifica</td>\n",
       "      <td>Y</td>\n",
       "      <td>-122.268005</td>\n",
       "      <td>37.815789</td>\n",
       "      <td>10/25/18 0:00</td>\n",
       "    </tr>\n",
       "    <tr>\n",
       "      <th>32939</th>\n",
       "      <td>FA0323158</td>\n",
       "      <td>BLIND TIGER</td>\n",
       "      <td>2600 TELEGRAPH AVE</td>\n",
       "      <td>OAKLAND</td>\n",
       "      <td>CA</td>\n",
       "      <td>94612</td>\n",
       "      <td>Premises personal/cleaning items vermin-proofing</td>\n",
       "      <td>G</td>\n",
       "      <td>-122.268005</td>\n",
       "      <td>37.815789</td>\n",
       "      <td>11/19/19 0:00</td>\n",
       "    </tr>\n",
       "    <tr>\n",
       "      <th>33486</th>\n",
       "      <td>FA0323158</td>\n",
       "      <td>BLIND TIGER</td>\n",
       "      <td>2600 TELEGRAPH AVE</td>\n",
       "      <td>OAKLAND</td>\n",
       "      <td>CA</td>\n",
       "      <td>94612</td>\n",
       "      <td>Proper hot and cold holding temperatures</td>\n",
       "      <td>G</td>\n",
       "      <td>-122.268005</td>\n",
       "      <td>37.815789</td>\n",
       "      <td>11/19/19 0:00</td>\n",
       "    </tr>\n",
       "    <tr>\n",
       "      <th>34548</th>\n",
       "      <td>FA0323158</td>\n",
       "      <td>BLIND TIGER</td>\n",
       "      <td>2600 TELEGRAPH AVE</td>\n",
       "      <td>OAKLAND</td>\n",
       "      <td>CA</td>\n",
       "      <td>94612</td>\n",
       "      <td>Premises personal/cleaning items vermin-proofing</td>\n",
       "      <td>G</td>\n",
       "      <td>-122.268005</td>\n",
       "      <td>37.815789</td>\n",
       "      <td>11/6/18 0:00</td>\n",
       "    </tr>\n",
       "    <tr>\n",
       "      <th>35108</th>\n",
       "      <td>FA0323158</td>\n",
       "      <td>BLIND TIGER</td>\n",
       "      <td>2600 TELEGRAPH AVE</td>\n",
       "      <td>OAKLAND</td>\n",
       "      <td>CA</td>\n",
       "      <td>94612</td>\n",
       "      <td>Equipment/Utensils - approved installed clean g</td>\n",
       "      <td>G</td>\n",
       "      <td>-122.268005</td>\n",
       "      <td>37.815789</td>\n",
       "      <td>11/19/19 0:00</td>\n",
       "    </tr>\n",
       "    <tr>\n",
       "      <th>39199</th>\n",
       "      <td>FA0323158</td>\n",
       "      <td>BLIND TIGER</td>\n",
       "      <td>2600 TELEGRAPH AVE</td>\n",
       "      <td>OAKLAND</td>\n",
       "      <td>CA</td>\n",
       "      <td>94612</td>\n",
       "      <td>Floors, walls and ceilings: built, maintained,...</td>\n",
       "      <td>R</td>\n",
       "      <td>-122.268005</td>\n",
       "      <td>37.815789</td>\n",
       "      <td>8/27/19 0:00</td>\n",
       "    </tr>\n",
       "    <tr>\n",
       "      <th>39365</th>\n",
       "      <td>FA0323158</td>\n",
       "      <td>BLIND TIGER</td>\n",
       "      <td>2600 TELEGRAPH AVE</td>\n",
       "      <td>OAKLAND</td>\n",
       "      <td>CA</td>\n",
       "      <td>94612</td>\n",
       "      <td>Floors, walls and ceilings: built, maintained,...</td>\n",
       "      <td>R</td>\n",
       "      <td>-122.268005</td>\n",
       "      <td>37.815789</td>\n",
       "      <td>7/26/19 0:00</td>\n",
       "    </tr>\n",
       "    <tr>\n",
       "      <th>39443</th>\n",
       "      <td>FA0323158</td>\n",
       "      <td>BLIND TIGER</td>\n",
       "      <td>2600 TELEGRAPH AVE</td>\n",
       "      <td>OAKLAND</td>\n",
       "      <td>CA</td>\n",
       "      <td>94612</td>\n",
       "      <td>Equipment, utensils and linens: storage and use</td>\n",
       "      <td>R</td>\n",
       "      <td>-122.268005</td>\n",
       "      <td>37.815789</td>\n",
       "      <td>7/26/19 0:00</td>\n",
       "    </tr>\n",
       "    <tr>\n",
       "      <th>39886</th>\n",
       "      <td>FA0323158</td>\n",
       "      <td>BLIND TIGER</td>\n",
       "      <td>2600 TELEGRAPH AVE</td>\n",
       "      <td>OAKLAND</td>\n",
       "      <td>CA</td>\n",
       "      <td>94612</td>\n",
       "      <td>Food contact surfaces: clean and sanitized</td>\n",
       "      <td>Y</td>\n",
       "      <td>-122.268005</td>\n",
       "      <td>37.815789</td>\n",
       "      <td>10/25/18 0:00</td>\n",
       "    </tr>\n",
       "    <tr>\n",
       "      <th>42457</th>\n",
       "      <td>FA0323158</td>\n",
       "      <td>BLIND TIGER</td>\n",
       "      <td>2600 TELEGRAPH AVE</td>\n",
       "      <td>OAKLAND</td>\n",
       "      <td>CA</td>\n",
       "      <td>94612</td>\n",
       "      <td>Nonfood-contact surfaces clean</td>\n",
       "      <td>R</td>\n",
       "      <td>-122.268005</td>\n",
       "      <td>37.815789</td>\n",
       "      <td>7/26/19 0:00</td>\n",
       "    </tr>\n",
       "    <tr>\n",
       "      <th>44603</th>\n",
       "      <td>FA0323158</td>\n",
       "      <td>BLIND TIGER</td>\n",
       "      <td>2600 TELEGRAPH AVE</td>\n",
       "      <td>OAKLAND</td>\n",
       "      <td>CA</td>\n",
       "      <td>94612</td>\n",
       "      <td>Thermometers provided and accurate</td>\n",
       "      <td>G</td>\n",
       "      <td>-122.268005</td>\n",
       "      <td>37.815789</td>\n",
       "      <td>11/19/19 0:00</td>\n",
       "    </tr>\n",
       "    <tr>\n",
       "      <th>46152</th>\n",
       "      <td>FA0323158</td>\n",
       "      <td>BLIND TIGER</td>\n",
       "      <td>2600 TELEGRAPH AVE</td>\n",
       "      <td>OAKLAND</td>\n",
       "      <td>CA</td>\n",
       "      <td>94612</td>\n",
       "      <td>No rodents, insects, birds, or animals</td>\n",
       "      <td>G</td>\n",
       "      <td>-122.268005</td>\n",
       "      <td>37.815789</td>\n",
       "      <td>11/19/19 0:00</td>\n",
       "    </tr>\n",
       "    <tr>\n",
       "      <th>49612</th>\n",
       "      <td>FA0323158</td>\n",
       "      <td>BLIND TIGER</td>\n",
       "      <td>2600 TELEGRAPH AVE</td>\n",
       "      <td>OAKLAND</td>\n",
       "      <td>CA</td>\n",
       "      <td>94612</td>\n",
       "      <td>Equipment, utensils and linens: storage and use</td>\n",
       "      <td>G</td>\n",
       "      <td>-122.268005</td>\n",
       "      <td>37.815789</td>\n",
       "      <td>11/6/18 0:00</td>\n",
       "    </tr>\n",
       "    <tr>\n",
       "      <th>51264</th>\n",
       "      <td>FA0323158</td>\n",
       "      <td>BLIND TIGER</td>\n",
       "      <td>2600 TELEGRAPH AVE</td>\n",
       "      <td>OAKLAND</td>\n",
       "      <td>CA</td>\n",
       "      <td>94612</td>\n",
       "      <td>Proper hot and cold holding temperatures</td>\n",
       "      <td>Y</td>\n",
       "      <td>-122.268005</td>\n",
       "      <td>37.815789</td>\n",
       "      <td>10/25/18 0:00</td>\n",
       "    </tr>\n",
       "    <tr>\n",
       "      <th>51271</th>\n",
       "      <td>FA0323158</td>\n",
       "      <td>BLIND TIGER</td>\n",
       "      <td>2600 TELEGRAPH AVE</td>\n",
       "      <td>OAKLAND</td>\n",
       "      <td>CA</td>\n",
       "      <td>94612</td>\n",
       "      <td>Equipment/Utensils - approved installed clean g</td>\n",
       "      <td>Y</td>\n",
       "      <td>-122.268005</td>\n",
       "      <td>37.815789</td>\n",
       "      <td>10/25/18 0:00</td>\n",
       "    </tr>\n",
       "    <tr>\n",
       "      <th>51850</th>\n",
       "      <td>FA0323158</td>\n",
       "      <td>BLIND TIGER</td>\n",
       "      <td>2600 TELEGRAPH AVE</td>\n",
       "      <td>OAKLAND</td>\n",
       "      <td>CA</td>\n",
       "      <td>94612</td>\n",
       "      <td>Wiping cloths: properly used and stored</td>\n",
       "      <td>R</td>\n",
       "      <td>-122.268005</td>\n",
       "      <td>37.815789</td>\n",
       "      <td>7/26/19 0:00</td>\n",
       "    </tr>\n",
       "  </tbody>\n",
       "</table>\n",
       "</div>"
      ],
      "text/plain": [
       "      Facility_ID Facility_Name             Address     City State    Zip  \\\n",
       "38      FA0323158   BLIND TIGER  2600 TELEGRAPH AVE  OAKLAND    CA  94612   \n",
       "4631    FA0323158   BLIND TIGER  2600 TELEGRAPH AVE  OAKLAND    CA  94612   \n",
       "6498    FA0323158   BLIND TIGER  2600 TELEGRAPH AVE  OAKLAND    CA  94612   \n",
       "9230    FA0323158   BLIND TIGER  2600 TELEGRAPH AVE  OAKLAND    CA  94612   \n",
       "12576   FA0323158   BLIND TIGER  2600 TELEGRAPH AVE  OAKLAND    CA  94612   \n",
       "12782   FA0323158   BLIND TIGER  2600 TELEGRAPH AVE  OAKLAND    CA  94612   \n",
       "12783   FA0323158   BLIND TIGER  2600 TELEGRAPH AVE  OAKLAND    CA  94612   \n",
       "14125   FA0323158   BLIND TIGER  2600 TELEGRAPH AVE  OAKLAND    CA  94612   \n",
       "15356   FA0323158   BLIND TIGER  2600 TELEGRAPH AVE  OAKLAND    CA  94612   \n",
       "16180   FA0323158   BLIND TIGER  2600 TELEGRAPH AVE  OAKLAND    CA  94612   \n",
       "17659   FA0323158   BLIND TIGER  2600 TELEGRAPH AVE  OAKLAND    CA  94612   \n",
       "20686   FA0323158   BLIND TIGER  2600 TELEGRAPH AVE  OAKLAND    CA  94612   \n",
       "21109   FA0323158   BLIND TIGER  2600 TELEGRAPH AVE  OAKLAND    CA  94612   \n",
       "21866   FA0323158   BLIND TIGER  2600 TELEGRAPH AVE  OAKLAND    CA  94612   \n",
       "22713   FA0323158   BLIND TIGER  2600 TELEGRAPH AVE  OAKLAND    CA  94612   \n",
       "23142   FA0323158   BLIND TIGER  2600 TELEGRAPH AVE  OAKLAND    CA  94612   \n",
       "24409   FA0323158   BLIND TIGER  2600 TELEGRAPH AVE  OAKLAND    CA  94612   \n",
       "25605   FA0323158   BLIND TIGER  2600 TELEGRAPH AVE  OAKLAND    CA  94612   \n",
       "27989   FA0323158   BLIND TIGER  2600 TELEGRAPH AVE  OAKLAND    CA  94612   \n",
       "28460   FA0323158   BLIND TIGER  2600 TELEGRAPH AVE  OAKLAND    CA  94612   \n",
       "28466   FA0323158   BLIND TIGER  2600 TELEGRAPH AVE  OAKLAND    CA  94612   \n",
       "32939   FA0323158   BLIND TIGER  2600 TELEGRAPH AVE  OAKLAND    CA  94612   \n",
       "33486   FA0323158   BLIND TIGER  2600 TELEGRAPH AVE  OAKLAND    CA  94612   \n",
       "34548   FA0323158   BLIND TIGER  2600 TELEGRAPH AVE  OAKLAND    CA  94612   \n",
       "35108   FA0323158   BLIND TIGER  2600 TELEGRAPH AVE  OAKLAND    CA  94612   \n",
       "39199   FA0323158   BLIND TIGER  2600 TELEGRAPH AVE  OAKLAND    CA  94612   \n",
       "39365   FA0323158   BLIND TIGER  2600 TELEGRAPH AVE  OAKLAND    CA  94612   \n",
       "39443   FA0323158   BLIND TIGER  2600 TELEGRAPH AVE  OAKLAND    CA  94612   \n",
       "39886   FA0323158   BLIND TIGER  2600 TELEGRAPH AVE  OAKLAND    CA  94612   \n",
       "42457   FA0323158   BLIND TIGER  2600 TELEGRAPH AVE  OAKLAND    CA  94612   \n",
       "44603   FA0323158   BLIND TIGER  2600 TELEGRAPH AVE  OAKLAND    CA  94612   \n",
       "46152   FA0323158   BLIND TIGER  2600 TELEGRAPH AVE  OAKLAND    CA  94612   \n",
       "49612   FA0323158   BLIND TIGER  2600 TELEGRAPH AVE  OAKLAND    CA  94612   \n",
       "51264   FA0323158   BLIND TIGER  2600 TELEGRAPH AVE  OAKLAND    CA  94612   \n",
       "51271   FA0323158   BLIND TIGER  2600 TELEGRAPH AVE  OAKLAND    CA  94612   \n",
       "51850   FA0323158   BLIND TIGER  2600 TELEGRAPH AVE  OAKLAND    CA  94612   \n",
       "\n",
       "                                   Violation_Description Grade   Longitude  \\\n",
       "38            Food contact surfaces: clean and sanitized     R -122.268005   \n",
       "4631          Food contact surfaces: clean and sanitized     G -122.268005   \n",
       "6498              No rodents, insects, birds, or animals     Y -122.268005   \n",
       "9230    Premises personal/cleaning items vermin-proofing     R -122.268005   \n",
       "12576         Food contact surfaces: clean and sanitized     R -122.268005   \n",
       "12782  Adequate handwashing facilities supplied & acc...     Y -122.268005   \n",
       "12783      Signs posted last inspection report available     Y -122.268005   \n",
       "14125                       Food separated and protected     R -122.268005   \n",
       "15356  Adequate handwashing facilities supplied & acc...     R -122.268005   \n",
       "16180            Wiping cloths: properly used and stored     R -122.268005   \n",
       "17659  Floors, walls and ceilings: built, maintained,...     G -122.268005   \n",
       "20686  Floors, walls and ceilings: built, maintained,...     G -122.268005   \n",
       "21109             No rodents, insects, birds, or animals     G -122.268005   \n",
       "21866                             Proper cooling methods     G -122.268005   \n",
       "22713            Wiping cloths: properly used and stored     Y -122.268005   \n",
       "23142  Adequate ventilation and lighting designated area     G -122.268005   \n",
       "24409      Signs posted last inspection report available     R -122.268005   \n",
       "25605  Adequate ventilation and lighting designated area     R -122.268005   \n",
       "27989             No rodents, insects, birds, or animals     R -122.268005   \n",
       "28460             No rodents, insects, birds, or animals     R -122.268005   \n",
       "28466  Demonstration of knowledge food manager certifica     Y -122.268005   \n",
       "32939   Premises personal/cleaning items vermin-proofing     G -122.268005   \n",
       "33486           Proper hot and cold holding temperatures     G -122.268005   \n",
       "34548   Premises personal/cleaning items vermin-proofing     G -122.268005   \n",
       "35108    Equipment/Utensils - approved installed clean g     G -122.268005   \n",
       "39199  Floors, walls and ceilings: built, maintained,...     R -122.268005   \n",
       "39365  Floors, walls and ceilings: built, maintained,...     R -122.268005   \n",
       "39443    Equipment, utensils and linens: storage and use     R -122.268005   \n",
       "39886         Food contact surfaces: clean and sanitized     Y -122.268005   \n",
       "42457                     Nonfood-contact surfaces clean     R -122.268005   \n",
       "44603                 Thermometers provided and accurate     G -122.268005   \n",
       "46152             No rodents, insects, birds, or animals     G -122.268005   \n",
       "49612    Equipment, utensils and linens: storage and use     G -122.268005   \n",
       "51264           Proper hot and cold holding temperatures     Y -122.268005   \n",
       "51271    Equipment/Utensils - approved installed clean g     Y -122.268005   \n",
       "51850            Wiping cloths: properly used and stored     R -122.268005   \n",
       "\n",
       "        Latitude  Activity_Date  \n",
       "38     37.815789   8/27/19 0:00  \n",
       "4631   37.815789  11/19/19 0:00  \n",
       "6498   37.815789  10/25/18 0:00  \n",
       "9230   37.815789   8/27/19 0:00  \n",
       "12576  37.815789   7/26/19 0:00  \n",
       "12782  37.815789  10/25/18 0:00  \n",
       "12783  37.815789  10/25/18 0:00  \n",
       "14125  37.815789   7/26/19 0:00  \n",
       "15356  37.815789   7/26/19 0:00  \n",
       "16180  37.815789   8/27/19 0:00  \n",
       "17659  37.815789  11/19/19 0:00  \n",
       "20686  37.815789   11/6/18 0:00  \n",
       "21109  37.815789   11/6/18 0:00  \n",
       "21866  37.815789  11/19/19 0:00  \n",
       "22713  37.815789  10/25/18 0:00  \n",
       "23142  37.815789  11/19/19 0:00  \n",
       "24409  37.815789   8/27/19 0:00  \n",
       "25605  37.815789   7/26/19 0:00  \n",
       "27989  37.815789   8/27/19 0:00  \n",
       "28460  37.815789   7/26/19 0:00  \n",
       "28466  37.815789  10/25/18 0:00  \n",
       "32939  37.815789  11/19/19 0:00  \n",
       "33486  37.815789  11/19/19 0:00  \n",
       "34548  37.815789   11/6/18 0:00  \n",
       "35108  37.815789  11/19/19 0:00  \n",
       "39199  37.815789   8/27/19 0:00  \n",
       "39365  37.815789   7/26/19 0:00  \n",
       "39443  37.815789   7/26/19 0:00  \n",
       "39886  37.815789  10/25/18 0:00  \n",
       "42457  37.815789   7/26/19 0:00  \n",
       "44603  37.815789  11/19/19 0:00  \n",
       "46152  37.815789  11/19/19 0:00  \n",
       "49612  37.815789   11/6/18 0:00  \n",
       "51264  37.815789  10/25/18 0:00  \n",
       "51271  37.815789  10/25/18 0:00  \n",
       "51850  37.815789   7/26/19 0:00  "
      ]
     },
     "execution_count": 41,
     "metadata": {},
     "output_type": "execute_result"
    }
   ],
   "source": [
    "inspections[inspections[\"Facility_Name\"] == \"BLIND TIGER\"]"
   ]
  },
  {
   "cell_type": "code",
   "execution_count": null,
   "metadata": {},
   "outputs": [],
   "source": []
  }
 ],
 "metadata": {
  "kernelspec": {
   "display_name": "Python 3",
   "language": "python",
   "name": "python3"
  },
  "language_info": {
   "codemirror_mode": {
    "name": "ipython",
    "version": 3
   },
   "file_extension": ".py",
   "mimetype": "text/x-python",
   "name": "python",
   "nbconvert_exporter": "python",
   "pygments_lexer": "ipython3",
   "version": "3.8.8"
  }
 },
 "nbformat": 4,
 "nbformat_minor": 4
}
